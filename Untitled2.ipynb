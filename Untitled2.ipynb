{
 "cells": [
  {
   "cell_type": "code",
   "execution_count": 40,
   "id": "7b4e64c5",
   "metadata": {},
   "outputs": [],
   "source": [
    "import pandas as pd\n",
    "\n",
    "import time\n",
    "import datetime\n",
    "\n",
    "df = pd.read_csv('group_test_utf-8.csv')"
   ]
  },
  {
   "cell_type": "code",
   "execution_count": 33,
   "id": "40dfc311",
   "metadata": {
    "collapsed": true
   },
   "outputs": [
    {
     "name": "stdout",
     "output_type": "stream",
     "text": [
      "0     연락처 정보표시할 연락처 정보 없음웹사이트 및 소셜 링크표시할 링크 없음기본 정보남성성별\n",
      "1     연락처 정보표시할 연락처 정보 없음웹사이트 및 소셜 링크http://instagra...\n",
      "2     연락처 정보표시할 연락처 정보 없음웹사이트 및 소셜 링크http://instagra...\n",
      "3     연락처 정보표시할 연락처 정보 없음웹사이트 및 소셜 링크https://www.you...\n",
      "4     연락처 정보표시할 연락처 정보 없음웹사이트 및 소셜 링크표시할 링크 없음기본 정보남성성별\n",
      "5     연락처 정보표시할 연락처 정보 없음웹사이트 및 소셜 링크표시할 링크 없음기본 정보표...\n",
      "6     연락처 정보표시할 연락처 정보 없음웹사이트 및 소셜 링크표시할 링크 없음기본 정보남성성별\n",
      "7     연락처 정보표시할 연락처 정보 없음웹사이트 및 소셜 링크표시할 링크 없음기본 정보남성성별\n",
      "8     연락처 정보표시할 연락처 정보 없음웹사이트 및 소셜 링크표시할 링크 없음기본 정보표...\n",
      "9     연락처 정보표시할 연락처 정보 없음웹사이트 및 소셜 링크표시할 링크 없음기본 정보남성성별\n",
      "10    연락처 정보표시할 연락처 정보 없음웹사이트 및 소셜 링크표시할 링크 없음기본 정보여성성별\n",
      "11    연락처 정보표시할 연락처 정보 없음웹사이트 및 소셜 링크표시할 링크 없음기본 정보남성성별\n",
      "12    연락처 정보표시할 연락처 정보 없음웹사이트 및 소셜 링크표시할 링크 없음기본 정보남성성별\n",
      "13    연락처 정보표시할 연락처 정보 없음웹사이트 및 소셜 링크표시할 링크 없음기본 정보남성성별\n",
      "14    연락처 정보표시할 연락처 정보 없음웹사이트 및 소셜 링크표시할 링크 없음기본 정보표...\n",
      "15    연락처 정보표시할 연락처 정보 없음웹사이트 및 소셜 링크표시할 링크 없음기본 정보표...\n",
      "16    연락처 정보표시할 연락처 정보 없음웹사이트 및 소셜 링크표시할 링크 없음기본 정보표...\n",
      "17    연락처 정보표시할 연락처 정보 없음웹사이트 및 소셜 링크표시할 링크 없음기본 정보표...\n",
      "18    연락처 정보표시할 연락처 정보 없음웹사이트 및 소셜 링크표시할 링크 없음기본 정보표...\n",
      "19    연락처 정보표시할 연락처 정보 없음웹사이트 및 소셜 링크표시할 링크 없음기본 정보표...\n",
      "20    연락처 정보표시할 연락처 정보 없음웹사이트 및 소셜 링크표시할 링크 없음기본 정보표...\n",
      "21    연락처 정보표시할 연락처 정보 없음웹사이트 및 소셜 링크표시할 링크 없음기본 정보남...\n",
      "22    연락처 정보표시할 연락처 정보 없음웹사이트 및 소셜 링크표시할 링크 없음기본 정보남성성별\n",
      "23    연락처 정보표시할 연락처 정보 없음웹사이트 및 소셜 링크suheekim89TikTo...\n",
      "24    연락처 정보표시할 연락처 정보 없음웹사이트 및 소셜 링크표시할 링크 없음기본 정보표...\n",
      "25    연락처 정보표시할 연락처 정보 없음웹사이트 및 소셜 링크표시할 링크 없음기본 정보표...\n",
      "26    연락처 정보표시할 연락처 정보 없음웹사이트 및 소셜 링크표시할 링크 없음기본 정보표...\n",
      "27    카테고리비영리 단체연락처 정보South Korea 전라북도 완주주소+82 63-29...\n",
      "28    연락처 정보표시할 연락처 정보 없음웹사이트 및 소셜 링크http://blog.nav...\n",
      "29                          카테고리관광 안내소기본 정보평점 없음(리뷰 0개)\n",
      "30    연락처 정보표시할 연락처 정보 없음웹사이트 및 소셜 링크표시할 링크 없음기본 정보표...\n",
      "31    연락처 정보표시할 연락처 정보 없음웹사이트 및 소셜 링크표시할 링크 없음기본 정보남성성별\n",
      "32    연락처 정보표시할 연락처 정보 없음웹사이트 및 소셜 링크표시할 링크 없음기본 정보남성성별\n",
      "33    연락처 정보표시할 연락처 정보 없음웹사이트 및 소셜 링크표시할 링크 없음기본 정보7...\n",
      "34    연락처 정보표시할 연락처 정보 없음웹사이트 및 소셜 링크표시할 링크 없음기본 정보남성성별\n",
      "Name: 지역, dtype: object\n"
     ]
    }
   ],
   "source": [
    "print(df['지역'])"
   ]
  },
  {
   "cell_type": "code",
   "execution_count": 41,
   "id": "672b18d2",
   "metadata": {},
   "outputs": [],
   "source": [
    "\n",
    "df = df.fillna('null')\n",
    "numbers = df['연락처'].str.split('년').str.get(0).str[-4:]\n",
    "int_values = []\n",
    "for item in numbers:\n",
    "    if item.isdigit():\n",
    "        int_values.append(int(item))\n",
    "    else:\n",
    "        int_values.append('없음')\n",
    "df.isnull().sum()\n",
    "df = df.fillna('null')\n",
    "numbers = df['연락처'].str.split('년').str.get(0).str[-4:]\n",
    "int_values = []\n",
    "for item in numbers:\n",
    "    if item.isdigit():\n",
    "        int_values.append(int(item))\n",
    "    else:\n",
    "        int_values.append('없음')\n",
    "df['출생연도'] = int_values\n",
    "df.columns = ['번호','이름', '연락처', '지역', '출생연도']\n",
    "df['지역'] = df['지역'].str.split('이전 거주지').str.get(1).str.split('현재').str.get(0).fillna('표시할 장소 없음')\n",
    "\n",
    "if len(df[df['연락처'].str.contains('\\+82')]) >= 1:\n",
    "    df['연락처'] = df['연락처'].str.split('\\+82 ').str.get(1).str[0:12].fillna('없음')\n",
    "    df.index[df['연락처'].str.contains('1')]\n",
    "    phone_num = df.index[df['연락처'].str.contains('1')]\n",
    "    df.loc[phone_num, '연락처'] = \"0\" + df.loc[phone_num, '연락처']\n",
    "else:\n",
    "    df['연락처'] = '없음'\n",
    "df.to_csv(\"test.csv\", encoding='UTF-8')"
   ]
  },
  {
   "cell_type": "code",
   "execution_count": null,
   "id": "c6db87fa",
   "metadata": {},
   "outputs": [],
   "source": []
  }
 ],
 "metadata": {
  "kernelspec": {
   "display_name": "Python 3 (ipykernel)",
   "language": "python",
   "name": "python3"
  },
  "language_info": {
   "codemirror_mode": {
    "name": "ipython",
    "version": 3
   },
   "file_extension": ".py",
   "mimetype": "text/x-python",
   "name": "python",
   "nbconvert_exporter": "python",
   "pygments_lexer": "ipython3",
   "version": "3.10.9"
  }
 },
 "nbformat": 4,
 "nbformat_minor": 5
}
