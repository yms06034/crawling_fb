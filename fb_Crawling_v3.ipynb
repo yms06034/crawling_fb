{
 "cells": [
  {
   "cell_type": "code",
   "execution_count": 14,
   "id": "934e07a7",
   "metadata": {},
   "outputs": [
    {
     "name": "stdout",
     "output_type": "stream",
     "text": [
      "[<proxy_randomizer.proxy.Proxy object at 0x000001C50D1D7EB0>, <proxy_randomizer.proxy.Proxy object at 0x000001C50DACFC70>, <proxy_randomizer.proxy.Proxy object at 0x000001C50DACFC10>, <proxy_randomizer.proxy.Proxy object at 0x000001C50DACFB80>, <proxy_randomizer.proxy.Proxy object at 0x000001C50DACFD30>, <proxy_randomizer.proxy.Proxy object at 0x000001C50DACFD90>, <proxy_randomizer.proxy.Proxy object at 0x000001C50DACFE50>, <proxy_randomizer.proxy.Proxy object at 0x000001C50DACFEB0>, <proxy_randomizer.proxy.Proxy object at 0x000001C50DACFF10>, <proxy_randomizer.proxy.Proxy object at 0x000001C50DACFF70>, <proxy_randomizer.proxy.Proxy object at 0x000001C50DACFFD0>, <proxy_randomizer.proxy.Proxy object at 0x000001C50DB34070>, <proxy_randomizer.proxy.Proxy object at 0x000001C50DB340D0>, <proxy_randomizer.proxy.Proxy object at 0x000001C50DB34130>, <proxy_randomizer.proxy.Proxy object at 0x000001C50DB34190>, <proxy_randomizer.proxy.Proxy object at 0x000001C50DB341F0>, <proxy_randomizer.proxy.Proxy object at 0x000001C50DB34250>, <proxy_randomizer.proxy.Proxy object at 0x000001C50DB342B0>, <proxy_randomizer.proxy.Proxy object at 0x000001C50DB34310>, <proxy_randomizer.proxy.Proxy object at 0x000001C50DB34370>, <proxy_randomizer.proxy.Proxy object at 0x000001C50DB343D0>, <proxy_randomizer.proxy.Proxy object at 0x000001C50DB34490>, <proxy_randomizer.proxy.Proxy object at 0x000001C50DB344F0>, <proxy_randomizer.proxy.Proxy object at 0x000001C50DB34550>, <proxy_randomizer.proxy.Proxy object at 0x000001C50DB345B0>, <proxy_randomizer.proxy.Proxy object at 0x000001C50DB34610>, <proxy_randomizer.proxy.Proxy object at 0x000001C50DB34670>, <proxy_randomizer.proxy.Proxy object at 0x000001C50DB346D0>, <proxy_randomizer.proxy.Proxy object at 0x000001C50DB34730>, <proxy_randomizer.proxy.Proxy object at 0x000001C50DB34790>, <proxy_randomizer.proxy.Proxy object at 0x000001C50DB347F0>, <proxy_randomizer.proxy.Proxy object at 0x000001C50DB34850>, <proxy_randomizer.proxy.Proxy object at 0x000001C50DB348B0>, <proxy_randomizer.proxy.Proxy object at 0x000001C50DB34910>, <proxy_randomizer.proxy.Proxy object at 0x000001C50DB34970>, <proxy_randomizer.proxy.Proxy object at 0x000001C50DB349D0>, <proxy_randomizer.proxy.Proxy object at 0x000001C50DB34A30>, <proxy_randomizer.proxy.Proxy object at 0x000001C50DB34A90>, <proxy_randomizer.proxy.Proxy object at 0x000001C50DB34AF0>, <proxy_randomizer.proxy.Proxy object at 0x000001C50DB34B50>, <proxy_randomizer.proxy.Proxy object at 0x000001C50DB34BB0>, <proxy_randomizer.proxy.Proxy object at 0x000001C50DB34C10>, <proxy_randomizer.proxy.Proxy object at 0x000001C50DB34C70>, <proxy_randomizer.proxy.Proxy object at 0x000001C50DB34CD0>, <proxy_randomizer.proxy.Proxy object at 0x000001C50DB34D30>, <proxy_randomizer.proxy.Proxy object at 0x000001C50DB34DF0>, <proxy_randomizer.proxy.Proxy object at 0x000001C50DB34E50>, <proxy_randomizer.proxy.Proxy object at 0x000001C50DB34EB0>, <proxy_randomizer.proxy.Proxy object at 0x000001C50DB34F10>, <proxy_randomizer.proxy.Proxy object at 0x000001C50DB34F70>, <proxy_randomizer.proxy.Proxy object at 0x000001C50DB34FD0>, <proxy_randomizer.proxy.Proxy object at 0x000001C50DB35030>, <proxy_randomizer.proxy.Proxy object at 0x000001C50DB35090>, <proxy_randomizer.proxy.Proxy object at 0x000001C50DB350F0>, <proxy_randomizer.proxy.Proxy object at 0x000001C50DB351B0>, <proxy_randomizer.proxy.Proxy object at 0x000001C50DB35210>, <proxy_randomizer.proxy.Proxy object at 0x000001C50DB35270>, <proxy_randomizer.proxy.Proxy object at 0x000001C50DB352D0>, <proxy_randomizer.proxy.Proxy object at 0x000001C50DB35330>, <proxy_randomizer.proxy.Proxy object at 0x000001C50DB353F0>, <proxy_randomizer.proxy.Proxy object at 0x000001C50DB35450>, <proxy_randomizer.proxy.Proxy object at 0x000001C50DB354B0>, <proxy_randomizer.proxy.Proxy object at 0x000001C50DB35570>, <proxy_randomizer.proxy.Proxy object at 0x000001C50DB355D0>, <proxy_randomizer.proxy.Proxy object at 0x000001C50DB35630>, <proxy_randomizer.proxy.Proxy object at 0x000001C50DB35690>, <proxy_randomizer.proxy.Proxy object at 0x000001C50DB356F0>, <proxy_randomizer.proxy.Proxy object at 0x000001C50DB35750>, <proxy_randomizer.proxy.Proxy object at 0x000001C50DB357B0>, <proxy_randomizer.proxy.Proxy object at 0x000001C50DB35810>, <proxy_randomizer.proxy.Proxy object at 0x000001C50DB358D0>, <proxy_randomizer.proxy.Proxy object at 0x000001C50DB35930>, <proxy_randomizer.proxy.Proxy object at 0x000001C50DB35990>, <proxy_randomizer.proxy.Proxy object at 0x000001C50DB359F0>, <proxy_randomizer.proxy.Proxy object at 0x000001C50DB35A50>, <proxy_randomizer.proxy.Proxy object at 0x000001C50DB35AB0>, <proxy_randomizer.proxy.Proxy object at 0x000001C50DB35B70>, <proxy_randomizer.proxy.Proxy object at 0x000001C50DB35BD0>, <proxy_randomizer.proxy.Proxy object at 0x000001C50DB35C30>, <proxy_randomizer.proxy.Proxy object at 0x000001C50DB35CF0>, <proxy_randomizer.proxy.Proxy object at 0x000001C50DB35D50>, <proxy_randomizer.proxy.Proxy object at 0x000001C50DB35E10>, <proxy_randomizer.proxy.Proxy object at 0x000001C50DB35E70>, <proxy_randomizer.proxy.Proxy object at 0x000001C50DB35F90>, <proxy_randomizer.proxy.Proxy object at 0x000001C50DB35FF0>, <proxy_randomizer.proxy.Proxy object at 0x000001C50DB36050>, <proxy_randomizer.proxy.Proxy object at 0x000001C50DB36CB0>, <proxy_randomizer.proxy.Proxy object at 0x000001C50DB36D70>, <proxy_randomizer.proxy.Proxy object at 0x000001C50DB36FB0>, <proxy_randomizer.proxy.Proxy object at 0x000001C50DB37010>, <proxy_randomizer.proxy.Proxy object at 0x000001C50DB37130>, <proxy_randomizer.proxy.Proxy object at 0x000001C50DB37190>, <proxy_randomizer.proxy.Proxy object at 0x000001C50DB37250>, <proxy_randomizer.proxy.Proxy object at 0x000001C50DB372B0>, <proxy_randomizer.proxy.Proxy object at 0x000001C50DB37370>, <proxy_randomizer.proxy.Proxy object at 0x000001C50DB373D0>, <proxy_randomizer.proxy.Proxy object at 0x000001C50DB37430>, <proxy_randomizer.proxy.Proxy object at 0x000001C50DB37490>, <proxy_randomizer.proxy.Proxy object at 0x000001C50DB374F0>, <proxy_randomizer.proxy.Proxy object at 0x000001C50DB37550>, <proxy_randomizer.proxy.Proxy object at 0x000001C50DB375B0>, <proxy_randomizer.proxy.Proxy object at 0x000001C50DB37610>, <proxy_randomizer.proxy.Proxy object at 0x000001C50DB37670>, <proxy_randomizer.proxy.Proxy object at 0x000001C50DB376D0>, <proxy_randomizer.proxy.Proxy object at 0x000001C50DB37730>, <proxy_randomizer.proxy.Proxy object at 0x000001C50DB37790>, <proxy_randomizer.proxy.Proxy object at 0x000001C50DB377F0>, <proxy_randomizer.proxy.Proxy object at 0x000001C50DB378B0>, <proxy_randomizer.proxy.Proxy object at 0x000001C50DB37910>, <proxy_randomizer.proxy.Proxy object at 0x000001C50DB37970>, <proxy_randomizer.proxy.Proxy object at 0x000001C50DB379D0>, <proxy_randomizer.proxy.Proxy object at 0x000001C50DB37A30>, <proxy_randomizer.proxy.Proxy object at 0x000001C50DB37A90>, <proxy_randomizer.proxy.Proxy object at 0x000001C50DB37AF0>, <proxy_randomizer.proxy.Proxy object at 0x000001C50DB37B50>, <proxy_randomizer.proxy.Proxy object at 0x000001C50DB37BB0>, <proxy_randomizer.proxy.Proxy object at 0x000001C50DB37C10>, <proxy_randomizer.proxy.Proxy object at 0x000001C50DB37C70>, <proxy_randomizer.proxy.Proxy object at 0x000001C50DB37D30>, <proxy_randomizer.proxy.Proxy object at 0x000001C50DB37D90>, <proxy_randomizer.proxy.Proxy object at 0x000001C50DB37DF0>, <proxy_randomizer.proxy.Proxy object at 0x000001C50DB37F10>, <proxy_randomizer.proxy.Proxy object at 0x000001C50DB37FD0>, <proxy_randomizer.proxy.Proxy object at 0x000001C50DB3C070>, <proxy_randomizer.proxy.Proxy object at 0x000001C50DB3C0D0>, <proxy_randomizer.proxy.Proxy object at 0x000001C50DB3C130>, <proxy_randomizer.proxy.Proxy object at 0x000001C50DB3C190>, <proxy_randomizer.proxy.Proxy object at 0x000001C50DB3C1F0>, <proxy_randomizer.proxy.Proxy object at 0x000001C50DB3C370>, <proxy_randomizer.proxy.Proxy object at 0x000001C50DB3C3D0>, <proxy_randomizer.proxy.Proxy object at 0x000001C50DB3C550>, <proxy_randomizer.proxy.Proxy object at 0x000001C50DB3C5B0>, <proxy_randomizer.proxy.Proxy object at 0x000001C50DB3C730>, <proxy_randomizer.proxy.Proxy object at 0x000001C50DB3C850>, <proxy_randomizer.proxy.Proxy object at 0x000001C50DB3C8B0>, <proxy_randomizer.proxy.Proxy object at 0x000001C50DB3C9D0>, <proxy_randomizer.proxy.Proxy object at 0x000001C50DB3CA30>, <proxy_randomizer.proxy.Proxy object at 0x000001C50DB3CA90>, <proxy_randomizer.proxy.Proxy object at 0x000001C50DB3CB50>, <proxy_randomizer.proxy.Proxy object at 0x000001C50DB3CC70>, <proxy_randomizer.proxy.Proxy object at 0x000001C50DB3CCD0>, <proxy_randomizer.proxy.Proxy object at 0x000001C50DB3CD30>, <proxy_randomizer.proxy.Proxy object at 0x000001C50DB3CD90>, <proxy_randomizer.proxy.Proxy object at 0x000001C50DB3CDF0>, <proxy_randomizer.proxy.Proxy object at 0x000001C50DB3CE50>, <proxy_randomizer.proxy.Proxy object at 0x000001C50DB3CF70>, <proxy_randomizer.proxy.Proxy object at 0x000001C50DB3CFD0>, <proxy_randomizer.proxy.Proxy object at 0x000001C50DB3D030>, <proxy_randomizer.proxy.Proxy object at 0x000001C50DB3D1B0>, <proxy_randomizer.proxy.Proxy object at 0x000001C50DB3D270>, <proxy_randomizer.proxy.Proxy object at 0x000001C50DB3D2D0>, <proxy_randomizer.proxy.Proxy object at 0x000001C50DB3D330>, <proxy_randomizer.proxy.Proxy object at 0x000001C50DB3D3F0>, <proxy_randomizer.proxy.Proxy object at 0x000001C50DB3D450>, <proxy_randomizer.proxy.Proxy object at 0x000001C50DB3D4B0>, <proxy_randomizer.proxy.Proxy object at 0x000001C50DB3D510>, <proxy_randomizer.proxy.Proxy object at 0x000001C50DB3D570>, <proxy_randomizer.proxy.Proxy object at 0x000001C50DB3D630>, <proxy_randomizer.proxy.Proxy object at 0x000001C50DB3D690>, <proxy_randomizer.proxy.Proxy object at 0x000001C50DB3D6F0>, <proxy_randomizer.proxy.Proxy object at 0x000001C50DB3D810>, <proxy_randomizer.proxy.Proxy object at 0x000001C50DB3D870>, <proxy_randomizer.proxy.Proxy object at 0x000001C50DB3D8D0>, <proxy_randomizer.proxy.Proxy object at 0x000001C50DB3D930>, <proxy_randomizer.proxy.Proxy object at 0x000001C50DB3D990>, <proxy_randomizer.proxy.Proxy object at 0x000001C50DB3D9F0>, <proxy_randomizer.proxy.Proxy object at 0x000001C50DB3DAB0>, <proxy_randomizer.proxy.Proxy object at 0x000001C50DB3DB10>, <proxy_randomizer.proxy.Proxy object at 0x000001C50DB3DD50>, <proxy_randomizer.proxy.Proxy object at 0x000001C50DB3DDB0>, <proxy_randomizer.proxy.Proxy object at 0x000001C50DB3DE10>, <proxy_randomizer.proxy.Proxy object at 0x000001C50DB3DE70>, <proxy_randomizer.proxy.Proxy object at 0x000001C50DB3DED0>, <proxy_randomizer.proxy.Proxy object at 0x000001C50DB3E0B0>, <proxy_randomizer.proxy.Proxy object at 0x000001C50DB3E1D0>, <proxy_randomizer.proxy.Proxy object at 0x000001C50DB3E230>, <proxy_randomizer.proxy.Proxy object at 0x000001C50DB3E290>, <proxy_randomizer.proxy.Proxy object at 0x000001C50DB3E2F0>, <proxy_randomizer.proxy.Proxy object at 0x000001C50DB3E350>, <proxy_randomizer.proxy.Proxy object at 0x000001C50DB3E3B0>, <proxy_randomizer.proxy.Proxy object at 0x000001C50DB3E410>, <proxy_randomizer.proxy.Proxy object at 0x000001C50B6382B0>, <proxy_randomizer.proxy.Proxy object at 0x000001C50B6387C0>, <proxy_randomizer.proxy.Proxy object at 0x000001C50B638BB0>, <proxy_randomizer.proxy.Proxy object at 0x000001C50B638AF0>, <proxy_randomizer.proxy.Proxy object at 0x000001C50B638CA0>, <proxy_randomizer.proxy.Proxy object at 0x000001C50B638460>, <proxy_randomizer.proxy.Proxy object at 0x000001C50B638A00>, <proxy_randomizer.proxy.Proxy object at 0x000001C50D1EFDC0>, <proxy_randomizer.proxy.Proxy object at 0x000001C50D1EF400>, <proxy_randomizer.proxy.Proxy object at 0x000001C50D1EF2E0>, <proxy_randomizer.proxy.Proxy object at 0x000001C50D1EF1C0>, <proxy_randomizer.proxy.Proxy object at 0x000001C50D1EF040>, <proxy_randomizer.proxy.Proxy object at 0x000001C50D1EEE00>, <proxy_randomizer.proxy.Proxy object at 0x000001C50D1EECE0>, <proxy_randomizer.proxy.Proxy object at 0x000001C50D1EEBF0>, <proxy_randomizer.proxy.Proxy object at 0x000001C50D1EEAA0>, <proxy_randomizer.proxy.Proxy object at 0x000001C50D1EE9B0>, <proxy_randomizer.proxy.Proxy object at 0x000001C50D1EE710>, <proxy_randomizer.proxy.Proxy object at 0x000001C50D1EE8C0>, <proxy_randomizer.proxy.Proxy object at 0x000001C50D1EE860>, <proxy_randomizer.proxy.Proxy object at 0x000001C50D1EE830>, <proxy_randomizer.proxy.Proxy object at 0x000001C50D1EE770>, <proxy_randomizer.proxy.Proxy object at 0x000001C50D1EE5C0>, <proxy_randomizer.proxy.Proxy object at 0x000001C50D1EE530>, <proxy_randomizer.proxy.Proxy object at 0x000001C50D1EE380>, <proxy_randomizer.proxy.Proxy object at 0x000001C50D1ECE50>, <proxy_randomizer.proxy.Proxy object at 0x000001C50D1ED450>, <proxy_randomizer.proxy.Proxy object at 0x000001C50D1EDC00>, <proxy_randomizer.proxy.Proxy object at 0x000001C50D1EDD50>, <proxy_randomizer.proxy.Proxy object at 0x000001C50D63BD90>, <proxy_randomizer.proxy.Proxy object at 0x000001C50D63BD60>, <proxy_randomizer.proxy.Proxy object at 0x000001C50D63B370>, <proxy_randomizer.proxy.Proxy object at 0x000001C50D63BBE0>, <proxy_randomizer.proxy.Proxy object at 0x000001C50D63BA30>, <proxy_randomizer.proxy.Proxy object at 0x000001C50D63BB20>, <proxy_randomizer.proxy.Proxy object at 0x000001C50D63B820>, <proxy_randomizer.proxy.Proxy object at 0x000001C50D63B760>, <proxy_randomizer.proxy.Proxy object at 0x000001C50D63B400>, <proxy_randomizer.proxy.Proxy object at 0x000001C50D63B340>, <proxy_randomizer.proxy.Proxy object at 0x000001C50D63B1C0>, <proxy_randomizer.proxy.Proxy object at 0x000001C50D63B070>, <proxy_randomizer.proxy.Proxy object at 0x000001C50D639DB0>, <proxy_randomizer.proxy.Proxy object at 0x000001C50D63AF80>, <proxy_randomizer.proxy.Proxy object at 0x000001C50D63AE90>, <proxy_randomizer.proxy.Proxy object at 0x000001C50D63AEC0>, <proxy_randomizer.proxy.Proxy object at 0x000001C50D63AD10>, <proxy_randomizer.proxy.Proxy object at 0x000001C50D63AD40>]\n"
     ]
    }
   ],
   "source": [
    "from proxy_randomizer import RegisteredProviders\n",
    "from proxy_randomizer.proxy import Anonymity\n",
    "\n",
    "rp = RegisteredProviders()\n",
    "rp.parse_providers()\n",
    "\n",
    "anonymous_proxies = list(\n",
    "    filter(lambda proxy: proxy.anonymity == Anonymity.ANONYMOUS, rp.proxies)\n",
    ")\n",
    "\n",
    "print(anonymous_proxies)"
   ]
  },
  {
   "cell_type": "code",
   "execution_count": 12,
   "id": "e267e00c",
   "metadata": {},
   "outputs": [
    {
     "ename": "AttributeError",
     "evalue": "type object 'datetime.datetime' has no attribute 'datetime'",
     "output_type": "error",
     "traceback": [
      "\u001b[1;31m---------------------------------------------------------------------------\u001b[0m",
      "\u001b[1;31mNoSuchElementException\u001b[0m                    Traceback (most recent call last)",
      "Cell \u001b[1;32mIn[12], line 44\u001b[0m\n\u001b[0;32m     43\u001b[0m \u001b[38;5;66;03m#login\u001b[39;00m\n\u001b[1;32m---> 44\u001b[0m elem \u001b[38;5;241m=\u001b[39m \u001b[43mbrowser\u001b[49m\u001b[38;5;241;43m.\u001b[39;49m\u001b[43mfind_element\u001b[49m\u001b[43m(\u001b[49m\u001b[38;5;124;43m\"\u001b[39;49m\u001b[38;5;124;43mid\u001b[39;49m\u001b[38;5;124;43m\"\u001b[39;49m\u001b[43m,\u001b[49m\u001b[43m \u001b[49m\u001b[38;5;124;43m\"\u001b[39;49m\u001b[38;5;124;43memail\u001b[39;49m\u001b[38;5;124;43m\"\u001b[39;49m\u001b[43m)\u001b[49m\n\u001b[0;32m     45\u001b[0m elem\u001b[38;5;241m.\u001b[39msend_keys(user)\n",
      "File \u001b[1;32m~\\AppData\\Local\\anaconda3\\lib\\site-packages\\selenium\\webdriver\\remote\\webdriver.py:740\u001b[0m, in \u001b[0;36mWebDriver.find_element\u001b[1;34m(self, by, value)\u001b[0m\n\u001b[0;32m    738\u001b[0m     value \u001b[38;5;241m=\u001b[39m \u001b[38;5;124mf\u001b[39m\u001b[38;5;124m'\u001b[39m\u001b[38;5;124m[name=\u001b[39m\u001b[38;5;124m\"\u001b[39m\u001b[38;5;132;01m{\u001b[39;00mvalue\u001b[38;5;132;01m}\u001b[39;00m\u001b[38;5;124m\"\u001b[39m\u001b[38;5;124m]\u001b[39m\u001b[38;5;124m'\u001b[39m\n\u001b[1;32m--> 740\u001b[0m \u001b[38;5;28;01mreturn\u001b[39;00m \u001b[38;5;28;43mself\u001b[39;49m\u001b[38;5;241;43m.\u001b[39;49m\u001b[43mexecute\u001b[49m\u001b[43m(\u001b[49m\u001b[43mCommand\u001b[49m\u001b[38;5;241;43m.\u001b[39;49m\u001b[43mFIND_ELEMENT\u001b[49m\u001b[43m,\u001b[49m\u001b[43m \u001b[49m\u001b[43m{\u001b[49m\u001b[38;5;124;43m\"\u001b[39;49m\u001b[38;5;124;43musing\u001b[39;49m\u001b[38;5;124;43m\"\u001b[39;49m\u001b[43m:\u001b[49m\u001b[43m \u001b[49m\u001b[43mby\u001b[49m\u001b[43m,\u001b[49m\u001b[43m \u001b[49m\u001b[38;5;124;43m\"\u001b[39;49m\u001b[38;5;124;43mvalue\u001b[39;49m\u001b[38;5;124;43m\"\u001b[39;49m\u001b[43m:\u001b[49m\u001b[43m \u001b[49m\u001b[43mvalue\u001b[49m\u001b[43m}\u001b[49m\u001b[43m)\u001b[49m[\u001b[38;5;124m\"\u001b[39m\u001b[38;5;124mvalue\u001b[39m\u001b[38;5;124m\"\u001b[39m]\n",
      "File \u001b[1;32m~\\AppData\\Local\\anaconda3\\lib\\site-packages\\selenium\\webdriver\\remote\\webdriver.py:346\u001b[0m, in \u001b[0;36mWebDriver.execute\u001b[1;34m(self, driver_command, params)\u001b[0m\n\u001b[0;32m    345\u001b[0m \u001b[38;5;28;01mif\u001b[39;00m response:\n\u001b[1;32m--> 346\u001b[0m     \u001b[38;5;28;43mself\u001b[39;49m\u001b[38;5;241;43m.\u001b[39;49m\u001b[43merror_handler\u001b[49m\u001b[38;5;241;43m.\u001b[39;49m\u001b[43mcheck_response\u001b[49m\u001b[43m(\u001b[49m\u001b[43mresponse\u001b[49m\u001b[43m)\u001b[49m\n\u001b[0;32m    347\u001b[0m     response[\u001b[38;5;124m\"\u001b[39m\u001b[38;5;124mvalue\u001b[39m\u001b[38;5;124m\"\u001b[39m] \u001b[38;5;241m=\u001b[39m \u001b[38;5;28mself\u001b[39m\u001b[38;5;241m.\u001b[39m_unwrap_value(response\u001b[38;5;241m.\u001b[39mget(\u001b[38;5;124m\"\u001b[39m\u001b[38;5;124mvalue\u001b[39m\u001b[38;5;124m\"\u001b[39m, \u001b[38;5;28;01mNone\u001b[39;00m))\n",
      "File \u001b[1;32m~\\AppData\\Local\\anaconda3\\lib\\site-packages\\selenium\\webdriver\\remote\\errorhandler.py:245\u001b[0m, in \u001b[0;36mErrorHandler.check_response\u001b[1;34m(self, response)\u001b[0m\n\u001b[0;32m    244\u001b[0m     \u001b[38;5;28;01mraise\u001b[39;00m exception_class(message, screen, stacktrace, alert_text)  \u001b[38;5;66;03m# type: ignore[call-arg]  # mypy is not smart enough here\u001b[39;00m\n\u001b[1;32m--> 245\u001b[0m \u001b[38;5;28;01mraise\u001b[39;00m exception_class(message, screen, stacktrace)\n",
      "\u001b[1;31mNoSuchElementException\u001b[0m: Message: no such element: Unable to locate element: {\"method\":\"css selector\",\"selector\":\"[id=\"email\"]\"}\n  (Session info: chrome=114.0.5735.134); For documentation on this error, please visit: https://www.selenium.dev/documentation/webdriver/troubleshooting/errors#no-such-element-exception\nStacktrace:\nBacktrace:\n\tGetHandleVerifier [0x00CBA813+48355]\n\t(No symbol) [0x00C4C4B1]\n\t(No symbol) [0x00B55358]\n\t(No symbol) [0x00B809A5]\n\t(No symbol) [0x00B80B3B]\n\t(No symbol) [0x00BAE232]\n\t(No symbol) [0x00B9A784]\n\t(No symbol) [0x00BAC922]\n\t(No symbol) [0x00B9A536]\n\t(No symbol) [0x00B782DC]\n\t(No symbol) [0x00B793DD]\n\tGetHandleVerifier [0x00F1AABD+2539405]\n\tGetHandleVerifier [0x00F5A78F+2800735]\n\tGetHandleVerifier [0x00F5456C+2775612]\n\tGetHandleVerifier [0x00D451E0+616112]\n\t(No symbol) [0x00C55F8C]\n\t(No symbol) [0x00C52328]\n\t(No symbol) [0x00C5240B]\n\t(No symbol) [0x00C44FF7]\n\tBaseThreadInitThunk [0x76CF00C9+25]\n\tRtlGetAppContainerNamedObjectPath [0x77887B4E+286]\n\tRtlGetAppContainerNamedObjectPath [0x77887B1E+238]\n",
      "\nDuring handling of the above exception, another exception occurred:\n",
      "\u001b[1;31mAttributeError\u001b[0m                            Traceback (most recent call last)",
      "Cell \u001b[1;32mIn[12], line 63\u001b[0m\n\u001b[0;32m     61\u001b[0m     time\u001b[38;5;241m.\u001b[39msleep(\u001b[38;5;241m1\u001b[39m)\n\u001b[0;32m     62\u001b[0m \u001b[38;5;28;01mexcept\u001b[39;00m:\n\u001b[1;32m---> 63\u001b[0m     browser\u001b[38;5;241m.\u001b[39msave_screenshot(\u001b[38;5;124m\"\u001b[39m\u001b[38;5;124mscreenshot_\u001b[39m\u001b[38;5;124m\"\u001b[39m\u001b[38;5;241m+\u001b[39m\u001b[43mdatetime\u001b[49m\u001b[38;5;241;43m.\u001b[39;49m\u001b[43mdatetime\u001b[49m\u001b[38;5;241m.\u001b[39mnow() \u001b[38;5;241m+\u001b[39m\u001b[38;5;124m\"\u001b[39m\u001b[38;5;124m.png\u001b[39m\u001b[38;5;124m\"\u001b[39m)\n\u001b[0;32m     64\u001b[0m     browser\u001b[38;5;241m.\u001b[39mclose()\n\u001b[0;32m     66\u001b[0m last_height \u001b[38;5;241m=\u001b[39m browser\u001b[38;5;241m.\u001b[39mexecute_script(\u001b[38;5;124m\"\u001b[39m\u001b[38;5;124mreturn document.body.scrollHeight\u001b[39m\u001b[38;5;124m\"\u001b[39m)\n",
      "\u001b[1;31mAttributeError\u001b[0m: type object 'datetime.datetime' has no attribute 'datetime'"
     ]
    }
   ],
   "source": [
    "from selenium import webdriver\n",
    "from selenium.webdriver.common.keys import Keys\n",
    "from selenium.webdriver.chrome.service import Service\n",
    "from bs4 import BeautifulSoup as bs\n",
    "import requests\n",
    "import time\n",
    "from fake_useragent import UserAgent\n",
    "from webdriver_manager.chrome import ChromeDriverManager\n",
    "from proxy_randomizer import RegisteredProviders\n",
    "import requests\n",
    "from datetime import datetime\n",
    "\n",
    "service = Service(ChromeDriverManager().install())\n",
    "ua = UserAgent(browsers=['chrome'])\n",
    "ua.random\n",
    "\n",
    "\n",
    "rp = RegisteredProviders()\n",
    "rp.parse_providers()\n",
    "\n",
    "#set secret mode\n",
    "options = webdriver.ChromeOptions()\n",
    "options.add_argument('--no-sandbox')\n",
    "options.add_argument('no-sandox')\n",
    "options.add_argument('--disable-dev-shm-usage')\n",
    "options.add_argument('--start-maximized')\n",
    "options.add_argument('incognito')\n",
    "# options.add_argument('--headless')\n",
    "options.add_argument('--proxy-server=http://%s' % rp.get_random_proxy())\n",
    "\n",
    "browser = webdriver.Chrome(service=service, options=options)\n",
    "\n",
    "try:\n",
    "    #open browser\n",
    "    browser.get(\"https://www.facebook.com/\")\n",
    "    time.sleep(1)\n",
    "\n",
    "    #log info, search keyword\n",
    "    user = \"shm8485@gmail.com\"\n",
    "    pwd = \"sohee8485\"\n",
    "    keyword = \"음식\\n\"\n",
    "\n",
    "    #login\n",
    "    elem = browser.find_element(\"id\", \"email\")\n",
    "    elem.send_keys(user)\n",
    "\n",
    "    elem = browser.find_element(\"id\", \"pass\")\n",
    "    elem.send_keys(pwd)\n",
    "\n",
    "    browser.find_element(\"xpath\",\"/html/body/div[1]/div[1]/div[1]/div/div/div/div[2]/div/div[1]/form/div[2]/button\").click()\n",
    "    time.sleep(3)\n",
    "\n",
    "    #search\n",
    "    elem = browser.find_element(\"xpath\", \"/html/body/div[1]/div/div[1]/div/div[2]/div[3]/div/div/div/div/div/label/input\")\n",
    "    elem.send_keys(keyword)\n",
    "    elem.send_keys(Keys.RETURN)\n",
    "    time.sleep(1)\n",
    "    elem = browser.find_element(\"xpath\", \"/html/body/div[1]/div/div[1]/div/div[3]/div/div/div/div[2]/div[1]/div[1]/div/div[2]/div[1]/div[2]/div/div/div[2]/div/div[3]/div/a/div[1]\")\n",
    "    elem.click()\n",
    "\n",
    "    time.sleep(1)\n",
    "except:\n",
    "    browser.save_screenshot(\"screenshot_\"+datetime.datetime.now() +\".png\")\n",
    "    browser.close()\n",
    "\n",
    "last_height = browser.execute_script(\"return document.body.scrollHeight\")\n",
    "while True:\n",
    "    browser.execute_script(\"window.scrollTo(0, document.body.scrollHeight);\")\n",
    "\n",
    "    time.sleep(0.5)\n",
    "\n",
    "    new_height = browser.execute_script(\"return document.body.scrollHeight\")\n",
    "    if new_height == last_height:\n",
    "        break\n",
    "    last_height = new_height\n",
    "    \n",
    "soup = bs(browser.page_source, \"html.parser\") \n",
    "\n",
    "top_elements = soup.find_all(\"a\")\n"
   ]
  },
  {
   "cell_type": "code",
   "execution_count": 3,
   "id": "7502c84a",
   "metadata": {},
   "outputs": [],
   "source": [
    "final_href = []\n",
    "\n",
    "for i in top_elements:\n",
    "    href = i.attrs['href']\n",
    "    final_href.append(href)"
   ]
  },
  {
   "cell_type": "code",
   "execution_count": 4,
   "id": "9ab9e4bd",
   "metadata": {},
   "outputs": [
    {
     "name": "stdout",
     "output_type": "stream",
     "text": [
      "48\n"
     ]
    }
   ],
   "source": [
    "url = \"https://www.facebook.com/profile.php?id=\"\n",
    "lists = []\n",
    "\n",
    "for i in final_href:\n",
    "    if url in i:\n",
    "        a_lists = i.split(\"&\")\n",
    "        lists.append(a_lists)\n",
    "final_list = [i for i in lists if len(i) <= 1]\n",
    "print(len(final_list))\n"
   ]
  },
  {
   "cell_type": "code",
   "execution_count": 5,
   "id": "392eb04b",
   "metadata": {},
   "outputs": [],
   "source": [
    "ua.random\n",
    "\n",
    "name, contact, country = [], [], []\n",
    "final_list = final_list[1:]\n",
    "for i in final_list:\n",
    "    browser.get(i[0]+\"&sk=about_contact_and_basic_info\")\n",
    "    time.sleep(0.5)\n",
    "    soup2 = bs(browser.page_source, \"html.parser\")\n",
    "    soup2 = soup2.find(class_=\"xyamay9 xqmdsaz x1gan7if x1swvt13\")\n",
    "    name.append(soup2.find(\"h1\").text)\n",
    "    contact.append(soup2.text)\n",
    "    browser.get(i[0]+\"&sk=about_places\")\n",
    "    time.sleep(0.5)\n",
    "    soup2 = bs(browser.page_source, \"html.parser\")\n",
    "    soup2 = soup2.find(class_=\"xyamay9 xqmdsaz x1gan7if x1swvt13\")\n",
    "    country.append(soup2.text)\n",
    "    ua.random\n"
   ]
  },
  {
   "cell_type": "code",
   "execution_count": 9,
   "id": "32d9b4ba",
   "metadata": {},
   "outputs": [],
   "source": [
    "import pandas as pd\n",
    "df = pd.DataFrame({\"이름\":name,\n",
    "                   \"연락처\":contact,\n",
    "                   \"지역\":country})\n",
    "df.to_csv(\"output_pd.csv\", encoding='UTF-8')"
   ]
  },
  {
   "cell_type": "code",
   "execution_count": null,
   "id": "4d579aff",
   "metadata": {},
   "outputs": [],
   "source": []
  },
  {
   "cell_type": "code",
   "execution_count": 14,
   "id": "8ff5d449",
   "metadata": {},
   "outputs": [
    {
     "name": "stdout",
     "output_type": "stream",
     "text": [
      "12\n",
      "12\n",
      "12\n"
     ]
    }
   ],
   "source": [
    "print(len(name))\n",
    "print(len(contact))\n",
    "print(len(country))"
   ]
  },
  {
   "cell_type": "code",
   "execution_count": 11,
   "id": "c1b4a822",
   "metadata": {},
   "outputs": [
    {
     "name": "stdout",
     "output_type": "stream",
     "text": [
      "https://www.facebook.com/profile.php?id=100055445097227\n"
     ]
    }
   ],
   "source": [
    "browser.get(final_list[1][0]+\"&sk=about_places\")\n",
    "soup2 = bs(browser.page_source, \"html.parser\")\n",
    "print(final_list[1][0])"
   ]
  },
  {
   "cell_type": "code",
   "execution_count": 19,
   "id": "85df28fa",
   "metadata": {},
   "outputs": [
    {
     "name": "stdout",
     "output_type": "stream",
     "text": [
      "박건우\n",
      "이전 거주지인천현재 거주지인천출신지\n",
      "연락처 정보표시할 연락처 정보 없음웹사이트 및 소셜 링크표시할 링크 없음기본 정보표시할 기본 정보 없음\n"
     ]
    }
   ],
   "source": [
    "browser.get(final_list[2][0]+\"&sk=about_places\")\n",
    "soup2 = bs(browser.page_source, \"html.parser\")\n",
    "print(soup2.find(\"h1\").text)\n",
    "soup2 = soup2.find(class_=\"xyamay9 xqmdsaz x1gan7if x1swvt13\")\n",
    "information = soup2.text\n",
    "print(information)\n",
    "\n",
    "browser.get(final_list[2][0]+\"&sk=about_contact_and_basic_info\")\n",
    "soup2 = bs(browser.page_source, \"html.parser\")\n",
    "soup2 = soup2.find(class_=\"xyamay9 xqmdsaz x1gan7if x1swvt13\")\n",
    "information = soup2.text\n",
    "print(information)\n"
   ]
  },
  {
   "cell_type": "code",
   "execution_count": 10,
   "id": "708a28b2",
   "metadata": {},
   "outputs": [
    {
     "name": "stdout",
     "output_type": "stream",
     "text": [
      "Reyan Ta-aca\n",
      "이전 거주지인천현재 거주지서울출신지\n",
      "연락처 정보표시할 연락처 정보 없음웹사이트 및 소셜 링크표시할 링크 없음기본 정보표시할 기본 정보 없음\n"
     ]
    }
   ],
   "source": [
    "browser.get(final_list[1][0]+\"&sk=about_places\")\n",
    "soup2 = bs(browser.page_source, \"html.parser\")\n",
    "print(soup2.find(\"h1\").text)\n",
    "soup2 = soup2.find(class_=\"xyamay9 xqmdsaz x1gan7if x1swvt13\")\n",
    "information = soup2.text\n",
    "print(information)\n",
    "\n",
    "browser.get(final_list[1][0]+\"&sk=about_contact_and_basic_info\")\n",
    "soup2 = bs(browser.page_source, \"html.parser\")\n",
    "soup2 = soup2.find(class_=\"xyamay9 xqmdsaz x1gan7if x1swvt13\")\n",
    "information = soup2.text\n",
    "print(information)\n"
   ]
  },
  {
   "cell_type": "code",
   "execution_count": 19,
   "id": "d4a4f974",
   "metadata": {},
   "outputs": [
    {
     "name": "stdout",
     "output_type": "stream",
     "text": [
      "이전 거주지도시 추가서울현재 거주지공유 대상: 전체 공개서울출신지공유 대상: 전체 공개\n",
      "이전 거주지인천현재 거주지서울출신지\n",
      "이전 거주지표시할 장소 없음\n",
      "이전 거주지경기도 안산현재 거주지경기도 군포출신지\n",
      "이전 거주지인천현재 거주지인천출신지\n",
      "이전 거주지강원도 고성현재 거주지제주도 제주출신지\n",
      "이전 거주지서울현재 거주지세부2006년에 이사\n",
      "이전 거주지경기도 의정부출신지\n",
      "이전 거주지서울현재 거주지\n",
      "이전 거주지강원도 속초현재 거주지강원도 홍천출신지\n",
      "이전 거주지표시할 장소 없음\n",
      "이전 거주지Yekaterinburg, Sverdlovskaya Oblast', Russia현재 거주지호놀룰루출신지\n",
      "이전 거주지경상북도 성주출신지\n",
      "이전 거주지부산현재 거주지부산출신지\n",
      "이전 거주지싱타이 시현재 거주지인천출신지\n",
      "이전 거주지대전현재 거주지대전출신지\n",
      "이전 거주지서울현재 거주지서울출신지\n",
      "이전 거주지경기도 안성현재 거주지경기도 안성출신지\n",
      "이전 거주지경기도 화성현재 거주지서울출신지경기도 화성2020년에 이사\n",
      "이전 거주지서울현재 거주지서울출신지\n",
      "이전 거주지서울현재 거주지전라남도 목포출신지\n",
      "이전 거주지서울현재 거주지서울출신지\n",
      "이전 거주지표시할 장소 없음\n",
      "이전 거주지표시할 장소 없음\n",
      "이전 거주지전라북도 군산현재 거주지전라북도 군산출신지\n",
      "이전 거주지표시할 장소 없음\n",
      "이전 거주지전라북도 익산현재 거주지전라북도 익산출신지\n",
      "이전 거주지브라질리아출신지\n",
      "이전 거주지벨리즈시티현재 거주지강원도 횡성출신지\n",
      "이전 거주지서울현재 거주지서울출신지\n",
      "이전 거주지장화 시현재 거주지Yünlin, Taiwan출신지\n",
      "이전 거주지호찌민 시현재 거주지\n",
      "이전 거주지경기도 부천현재 거주지경기도 부천출신지\n",
      "이전 거주지서울현재 거주지서울출신지\n",
      "이전 거주지Gumi현재 거주지강원도 철원출신지\n",
      "이전 거주지대구현재 거주지\n",
      "이전 거주지마카티현재 거주지루세출신지\n",
      "이전 거주지경기도 수원현재 거주지경기도 수원출신지\n",
      "이전 거주지경상북도 구미현재 거주지경상북도 구미출신지\n",
      "이전 거주지서울현재 거주지Corea, Maine출신지\n",
      "이전 거주지표시할 장소 없음\n",
      "이전 거주지San Pedro, Laguna현재 거주지\n",
      "이전 거주지표시할 장소 없음\n",
      "이전 거주지서울현재 거주지서울출신지\n",
      "이전 거주지표시할 장소 없음\n",
      "이전 거주지말롤로스현재 거주지말롤로스출신지\n",
      "이전 거주지서울현재 거주지서울출신지\n"
     ]
    }
   ],
   "source": [
    "from fake_useragent import UserAgent\n",
    "ua = UserAgent(browsers=['chrome'])\n",
    "ua.random\n",
    "\n",
    "for i in final_list:\n",
    "    browser.get(i[0]+\"&sk=about_places\")\n",
    "    time.sleep(0.5)\n",
    "    soup2 = bs(browser.page_source, \"html.parser\")\n",
    "    soup2 = soup2.find(class_=\"xyamay9 xqmdsaz x1gan7if x1swvt13\")\n",
    "    information = soup2.text\n",
    "    print(information)\n",
    "    ua.random"
   ]
  },
  {
   "cell_type": "code",
   "execution_count": 115,
   "id": "945d7129",
   "metadata": {
    "collapsed": true
   },
   "outputs": [
    {
     "ename": "MaxRetryError",
     "evalue": "HTTPConnectionPool(host='localhost', port=64699): Max retries exceeded with url: /session/b0493b62c7aa4876fc06a6d8cc956ec8/url (Caused by NewConnectionError('<urllib3.connection.HTTPConnection object at 0x000001E95A600D50>: Failed to establish a new connection: [WinError 10061] 대상 컴퓨터에서 연결을 거부했으므로 연결하지 못했습니다'))",
     "output_type": "error",
     "traceback": [
      "\u001b[1;31m---------------------------------------------------------------------------\u001b[0m",
      "\u001b[1;31mConnectionRefusedError\u001b[0m                    Traceback (most recent call last)",
      "File \u001b[1;32m~\\AppData\\Local\\Programs\\Python\\Python311\\Lib\\site-packages\\urllib3\\connection.py:200\u001b[0m, in \u001b[0;36mHTTPConnection._new_conn\u001b[1;34m(self)\u001b[0m\n\u001b[0;32m    199\u001b[0m \u001b[38;5;28;01mtry\u001b[39;00m:\n\u001b[1;32m--> 200\u001b[0m     sock \u001b[38;5;241m=\u001b[39m \u001b[43mconnection\u001b[49m\u001b[38;5;241;43m.\u001b[39;49m\u001b[43mcreate_connection\u001b[49m\u001b[43m(\u001b[49m\n\u001b[0;32m    201\u001b[0m \u001b[43m        \u001b[49m\u001b[43m(\u001b[49m\u001b[38;5;28;43mself\u001b[39;49m\u001b[38;5;241;43m.\u001b[39;49m\u001b[43m_dns_host\u001b[49m\u001b[43m,\u001b[49m\u001b[43m \u001b[49m\u001b[38;5;28;43mself\u001b[39;49m\u001b[38;5;241;43m.\u001b[39;49m\u001b[43mport\u001b[49m\u001b[43m)\u001b[49m\u001b[43m,\u001b[49m\n\u001b[0;32m    202\u001b[0m \u001b[43m        \u001b[49m\u001b[38;5;28;43mself\u001b[39;49m\u001b[38;5;241;43m.\u001b[39;49m\u001b[43mtimeout\u001b[49m\u001b[43m,\u001b[49m\n\u001b[0;32m    203\u001b[0m \u001b[43m        \u001b[49m\u001b[43msource_address\u001b[49m\u001b[38;5;241;43m=\u001b[39;49m\u001b[38;5;28;43mself\u001b[39;49m\u001b[38;5;241;43m.\u001b[39;49m\u001b[43msource_address\u001b[49m\u001b[43m,\u001b[49m\n\u001b[0;32m    204\u001b[0m \u001b[43m        \u001b[49m\u001b[43msocket_options\u001b[49m\u001b[38;5;241;43m=\u001b[39;49m\u001b[38;5;28;43mself\u001b[39;49m\u001b[38;5;241;43m.\u001b[39;49m\u001b[43msocket_options\u001b[49m\u001b[43m,\u001b[49m\n\u001b[0;32m    205\u001b[0m \u001b[43m    \u001b[49m\u001b[43m)\u001b[49m\n\u001b[0;32m    206\u001b[0m \u001b[38;5;28;01mexcept\u001b[39;00m socket\u001b[38;5;241m.\u001b[39mgaierror \u001b[38;5;28;01mas\u001b[39;00m e:\n",
      "File \u001b[1;32m~\\AppData\\Local\\Programs\\Python\\Python311\\Lib\\site-packages\\urllib3\\util\\connection.py:85\u001b[0m, in \u001b[0;36mcreate_connection\u001b[1;34m(address, timeout, source_address, socket_options)\u001b[0m\n\u001b[0;32m     84\u001b[0m \u001b[38;5;28;01mtry\u001b[39;00m:\n\u001b[1;32m---> 85\u001b[0m     \u001b[38;5;28;01mraise\u001b[39;00m err\n\u001b[0;32m     86\u001b[0m \u001b[38;5;28;01mfinally\u001b[39;00m:\n\u001b[0;32m     87\u001b[0m     \u001b[38;5;66;03m# Break explicitly a reference cycle\u001b[39;00m\n",
      "File \u001b[1;32m~\\AppData\\Local\\Programs\\Python\\Python311\\Lib\\site-packages\\urllib3\\util\\connection.py:73\u001b[0m, in \u001b[0;36mcreate_connection\u001b[1;34m(address, timeout, source_address, socket_options)\u001b[0m\n\u001b[0;32m     72\u001b[0m     sock\u001b[38;5;241m.\u001b[39mbind(source_address)\n\u001b[1;32m---> 73\u001b[0m sock\u001b[38;5;241m.\u001b[39mconnect(sa)\n\u001b[0;32m     74\u001b[0m \u001b[38;5;66;03m# Break explicitly a reference cycle\u001b[39;00m\n",
      "\u001b[1;31mConnectionRefusedError\u001b[0m: [WinError 10061] 대상 컴퓨터에서 연결을 거부했으므로 연결하지 못했습니다",
      "\nThe above exception was the direct cause of the following exception:\n",
      "\u001b[1;31mNewConnectionError\u001b[0m                        Traceback (most recent call last)",
      "File \u001b[1;32m~\\AppData\\Local\\Programs\\Python\\Python311\\Lib\\site-packages\\urllib3\\connectionpool.py:790\u001b[0m, in \u001b[0;36mHTTPConnectionPool.urlopen\u001b[1;34m(self, method, url, body, headers, retries, redirect, assert_same_host, timeout, pool_timeout, release_conn, chunked, body_pos, preload_content, decode_content, **response_kw)\u001b[0m\n\u001b[0;32m    789\u001b[0m \u001b[38;5;66;03m# Make the request on the HTTPConnection object\u001b[39;00m\n\u001b[1;32m--> 790\u001b[0m response \u001b[38;5;241m=\u001b[39m \u001b[38;5;28;43mself\u001b[39;49m\u001b[38;5;241;43m.\u001b[39;49m\u001b[43m_make_request\u001b[49m\u001b[43m(\u001b[49m\n\u001b[0;32m    791\u001b[0m \u001b[43m    \u001b[49m\u001b[43mconn\u001b[49m\u001b[43m,\u001b[49m\n\u001b[0;32m    792\u001b[0m \u001b[43m    \u001b[49m\u001b[43mmethod\u001b[49m\u001b[43m,\u001b[49m\n\u001b[0;32m    793\u001b[0m \u001b[43m    \u001b[49m\u001b[43murl\u001b[49m\u001b[43m,\u001b[49m\n\u001b[0;32m    794\u001b[0m \u001b[43m    \u001b[49m\u001b[43mtimeout\u001b[49m\u001b[38;5;241;43m=\u001b[39;49m\u001b[43mtimeout_obj\u001b[49m\u001b[43m,\u001b[49m\n\u001b[0;32m    795\u001b[0m \u001b[43m    \u001b[49m\u001b[43mbody\u001b[49m\u001b[38;5;241;43m=\u001b[39;49m\u001b[43mbody\u001b[49m\u001b[43m,\u001b[49m\n\u001b[0;32m    796\u001b[0m \u001b[43m    \u001b[49m\u001b[43mheaders\u001b[49m\u001b[38;5;241;43m=\u001b[39;49m\u001b[43mheaders\u001b[49m\u001b[43m,\u001b[49m\n\u001b[0;32m    797\u001b[0m \u001b[43m    \u001b[49m\u001b[43mchunked\u001b[49m\u001b[38;5;241;43m=\u001b[39;49m\u001b[43mchunked\u001b[49m\u001b[43m,\u001b[49m\n\u001b[0;32m    798\u001b[0m \u001b[43m    \u001b[49m\u001b[43mretries\u001b[49m\u001b[38;5;241;43m=\u001b[39;49m\u001b[43mretries\u001b[49m\u001b[43m,\u001b[49m\n\u001b[0;32m    799\u001b[0m \u001b[43m    \u001b[49m\u001b[43mresponse_conn\u001b[49m\u001b[38;5;241;43m=\u001b[39;49m\u001b[43mresponse_conn\u001b[49m\u001b[43m,\u001b[49m\n\u001b[0;32m    800\u001b[0m \u001b[43m    \u001b[49m\u001b[43mpreload_content\u001b[49m\u001b[38;5;241;43m=\u001b[39;49m\u001b[43mpreload_content\u001b[49m\u001b[43m,\u001b[49m\n\u001b[0;32m    801\u001b[0m \u001b[43m    \u001b[49m\u001b[43mdecode_content\u001b[49m\u001b[38;5;241;43m=\u001b[39;49m\u001b[43mdecode_content\u001b[49m\u001b[43m,\u001b[49m\n\u001b[0;32m    802\u001b[0m \u001b[43m    \u001b[49m\u001b[38;5;241;43m*\u001b[39;49m\u001b[38;5;241;43m*\u001b[39;49m\u001b[43mresponse_kw\u001b[49m\u001b[43m,\u001b[49m\n\u001b[0;32m    803\u001b[0m \u001b[43m\u001b[49m\u001b[43m)\u001b[49m\n\u001b[0;32m    805\u001b[0m \u001b[38;5;66;03m# Everything went great!\u001b[39;00m\n",
      "File \u001b[1;32m~\\AppData\\Local\\Programs\\Python\\Python311\\Lib\\site-packages\\urllib3\\connectionpool.py:496\u001b[0m, in \u001b[0;36mHTTPConnectionPool._make_request\u001b[1;34m(self, conn, method, url, body, headers, retries, timeout, chunked, response_conn, preload_content, decode_content, enforce_content_length)\u001b[0m\n\u001b[0;32m    495\u001b[0m \u001b[38;5;28;01mtry\u001b[39;00m:\n\u001b[1;32m--> 496\u001b[0m     \u001b[43mconn\u001b[49m\u001b[38;5;241;43m.\u001b[39;49m\u001b[43mrequest\u001b[49m\u001b[43m(\u001b[49m\n\u001b[0;32m    497\u001b[0m \u001b[43m        \u001b[49m\u001b[43mmethod\u001b[49m\u001b[43m,\u001b[49m\n\u001b[0;32m    498\u001b[0m \u001b[43m        \u001b[49m\u001b[43murl\u001b[49m\u001b[43m,\u001b[49m\n\u001b[0;32m    499\u001b[0m \u001b[43m        \u001b[49m\u001b[43mbody\u001b[49m\u001b[38;5;241;43m=\u001b[39;49m\u001b[43mbody\u001b[49m\u001b[43m,\u001b[49m\n\u001b[0;32m    500\u001b[0m \u001b[43m        \u001b[49m\u001b[43mheaders\u001b[49m\u001b[38;5;241;43m=\u001b[39;49m\u001b[43mheaders\u001b[49m\u001b[43m,\u001b[49m\n\u001b[0;32m    501\u001b[0m \u001b[43m        \u001b[49m\u001b[43mchunked\u001b[49m\u001b[38;5;241;43m=\u001b[39;49m\u001b[43mchunked\u001b[49m\u001b[43m,\u001b[49m\n\u001b[0;32m    502\u001b[0m \u001b[43m        \u001b[49m\u001b[43mpreload_content\u001b[49m\u001b[38;5;241;43m=\u001b[39;49m\u001b[43mpreload_content\u001b[49m\u001b[43m,\u001b[49m\n\u001b[0;32m    503\u001b[0m \u001b[43m        \u001b[49m\u001b[43mdecode_content\u001b[49m\u001b[38;5;241;43m=\u001b[39;49m\u001b[43mdecode_content\u001b[49m\u001b[43m,\u001b[49m\n\u001b[0;32m    504\u001b[0m \u001b[43m        \u001b[49m\u001b[43menforce_content_length\u001b[49m\u001b[38;5;241;43m=\u001b[39;49m\u001b[43menforce_content_length\u001b[49m\u001b[43m,\u001b[49m\n\u001b[0;32m    505\u001b[0m \u001b[43m    \u001b[49m\u001b[43m)\u001b[49m\n\u001b[0;32m    507\u001b[0m \u001b[38;5;66;03m# We are swallowing BrokenPipeError (errno.EPIPE) since the server is\u001b[39;00m\n\u001b[0;32m    508\u001b[0m \u001b[38;5;66;03m# legitimately able to close the connection after sending a valid response.\u001b[39;00m\n\u001b[0;32m    509\u001b[0m \u001b[38;5;66;03m# With this behaviour, the received response is still readable.\u001b[39;00m\n",
      "File \u001b[1;32m~\\AppData\\Local\\Programs\\Python\\Python311\\Lib\\site-packages\\urllib3\\connection.py:388\u001b[0m, in \u001b[0;36mHTTPConnection.request\u001b[1;34m(self, method, url, body, headers, chunked, preload_content, decode_content, enforce_content_length)\u001b[0m\n\u001b[0;32m    387\u001b[0m     \u001b[38;5;28mself\u001b[39m\u001b[38;5;241m.\u001b[39mputheader(header, value)\n\u001b[1;32m--> 388\u001b[0m \u001b[38;5;28;43mself\u001b[39;49m\u001b[38;5;241;43m.\u001b[39;49m\u001b[43mendheaders\u001b[49m\u001b[43m(\u001b[49m\u001b[43m)\u001b[49m\n\u001b[0;32m    390\u001b[0m \u001b[38;5;66;03m# If we're given a body we start sending that in chunks.\u001b[39;00m\n",
      "File \u001b[1;32m~\\AppData\\Local\\Programs\\Python\\Python311\\Lib\\http\\client.py:1281\u001b[0m, in \u001b[0;36mHTTPConnection.endheaders\u001b[1;34m(self, message_body, encode_chunked)\u001b[0m\n\u001b[0;32m   1280\u001b[0m     \u001b[38;5;28;01mraise\u001b[39;00m CannotSendHeader()\n\u001b[1;32m-> 1281\u001b[0m \u001b[38;5;28;43mself\u001b[39;49m\u001b[38;5;241;43m.\u001b[39;49m\u001b[43m_send_output\u001b[49m\u001b[43m(\u001b[49m\u001b[43mmessage_body\u001b[49m\u001b[43m,\u001b[49m\u001b[43m \u001b[49m\u001b[43mencode_chunked\u001b[49m\u001b[38;5;241;43m=\u001b[39;49m\u001b[43mencode_chunked\u001b[49m\u001b[43m)\u001b[49m\n",
      "File \u001b[1;32m~\\AppData\\Local\\Programs\\Python\\Python311\\Lib\\http\\client.py:1041\u001b[0m, in \u001b[0;36mHTTPConnection._send_output\u001b[1;34m(self, message_body, encode_chunked)\u001b[0m\n\u001b[0;32m   1040\u001b[0m \u001b[38;5;28;01mdel\u001b[39;00m \u001b[38;5;28mself\u001b[39m\u001b[38;5;241m.\u001b[39m_buffer[:]\n\u001b[1;32m-> 1041\u001b[0m \u001b[38;5;28;43mself\u001b[39;49m\u001b[38;5;241;43m.\u001b[39;49m\u001b[43msend\u001b[49m\u001b[43m(\u001b[49m\u001b[43mmsg\u001b[49m\u001b[43m)\u001b[49m\n\u001b[0;32m   1043\u001b[0m \u001b[38;5;28;01mif\u001b[39;00m message_body \u001b[38;5;129;01mis\u001b[39;00m \u001b[38;5;129;01mnot\u001b[39;00m \u001b[38;5;28;01mNone\u001b[39;00m:\n\u001b[0;32m   1044\u001b[0m \n\u001b[0;32m   1045\u001b[0m     \u001b[38;5;66;03m# create a consistent interface to message_body\u001b[39;00m\n",
      "File \u001b[1;32m~\\AppData\\Local\\Programs\\Python\\Python311\\Lib\\http\\client.py:979\u001b[0m, in \u001b[0;36mHTTPConnection.send\u001b[1;34m(self, data)\u001b[0m\n\u001b[0;32m    978\u001b[0m \u001b[38;5;28;01mif\u001b[39;00m \u001b[38;5;28mself\u001b[39m\u001b[38;5;241m.\u001b[39mauto_open:\n\u001b[1;32m--> 979\u001b[0m     \u001b[38;5;28;43mself\u001b[39;49m\u001b[38;5;241;43m.\u001b[39;49m\u001b[43mconnect\u001b[49m\u001b[43m(\u001b[49m\u001b[43m)\u001b[49m\n\u001b[0;32m    980\u001b[0m \u001b[38;5;28;01melse\u001b[39;00m:\n",
      "File \u001b[1;32m~\\AppData\\Local\\Programs\\Python\\Python311\\Lib\\site-packages\\urllib3\\connection.py:236\u001b[0m, in \u001b[0;36mHTTPConnection.connect\u001b[1;34m(self)\u001b[0m\n\u001b[0;32m    235\u001b[0m \u001b[38;5;28;01mdef\u001b[39;00m \u001b[38;5;21mconnect\u001b[39m(\u001b[38;5;28mself\u001b[39m) \u001b[38;5;241m-\u001b[39m\u001b[38;5;241m>\u001b[39m \u001b[38;5;28;01mNone\u001b[39;00m:\n\u001b[1;32m--> 236\u001b[0m     \u001b[38;5;28mself\u001b[39m\u001b[38;5;241m.\u001b[39msock \u001b[38;5;241m=\u001b[39m \u001b[38;5;28;43mself\u001b[39;49m\u001b[38;5;241;43m.\u001b[39;49m\u001b[43m_new_conn\u001b[49m\u001b[43m(\u001b[49m\u001b[43m)\u001b[49m\n\u001b[0;32m    237\u001b[0m     \u001b[38;5;28;01mif\u001b[39;00m \u001b[38;5;28mself\u001b[39m\u001b[38;5;241m.\u001b[39m_tunnel_host:\n\u001b[0;32m    238\u001b[0m         \u001b[38;5;66;03m# If we're tunneling it means we're connected to our proxy.\u001b[39;00m\n",
      "File \u001b[1;32m~\\AppData\\Local\\Programs\\Python\\Python311\\Lib\\site-packages\\urllib3\\connection.py:215\u001b[0m, in \u001b[0;36mHTTPConnection._new_conn\u001b[1;34m(self)\u001b[0m\n\u001b[0;32m    214\u001b[0m \u001b[38;5;28;01mexcept\u001b[39;00m \u001b[38;5;167;01mOSError\u001b[39;00m \u001b[38;5;28;01mas\u001b[39;00m e:\n\u001b[1;32m--> 215\u001b[0m     \u001b[38;5;28;01mraise\u001b[39;00m NewConnectionError(\n\u001b[0;32m    216\u001b[0m         \u001b[38;5;28mself\u001b[39m, \u001b[38;5;124mf\u001b[39m\u001b[38;5;124m\"\u001b[39m\u001b[38;5;124mFailed to establish a new connection: \u001b[39m\u001b[38;5;132;01m{\u001b[39;00me\u001b[38;5;132;01m}\u001b[39;00m\u001b[38;5;124m\"\u001b[39m\n\u001b[0;32m    217\u001b[0m     ) \u001b[38;5;28;01mfrom\u001b[39;00m \u001b[38;5;21;01me\u001b[39;00m\n\u001b[0;32m    219\u001b[0m \u001b[38;5;28;01mreturn\u001b[39;00m sock\n",
      "\u001b[1;31mNewConnectionError\u001b[0m: <urllib3.connection.HTTPConnection object at 0x000001E95A600D50>: Failed to establish a new connection: [WinError 10061] 대상 컴퓨터에서 연결을 거부했으므로 연결하지 못했습니다",
      "\nThe above exception was the direct cause of the following exception:\n",
      "\u001b[1;31mMaxRetryError\u001b[0m                             Traceback (most recent call last)",
      "Cell \u001b[1;32mIn[115], line 1\u001b[0m\n\u001b[1;32m----> 1\u001b[0m \u001b[43mbrowser\u001b[49m\u001b[38;5;241;43m.\u001b[39;49m\u001b[43mget\u001b[49m\u001b[43m(\u001b[49m\u001b[43mfinal_list\u001b[49m\u001b[43m[\u001b[49m\u001b[38;5;241;43m0\u001b[39;49m\u001b[43m]\u001b[49m\u001b[43m[\u001b[49m\u001b[38;5;241;43m0\u001b[39;49m\u001b[43m]\u001b[49m\u001b[38;5;241;43m+\u001b[39;49m\u001b[38;5;124;43m\"\u001b[39;49m\u001b[38;5;124;43m&sk=about\u001b[39;49m\u001b[38;5;124;43m\"\u001b[39;49m\u001b[43m)\u001b[49m\n",
      "File \u001b[1;32m~\\AppData\\Local\\Programs\\Python\\Python311\\Lib\\site-packages\\selenium\\webdriver\\remote\\webdriver.py:355\u001b[0m, in \u001b[0;36mWebDriver.get\u001b[1;34m(self, url)\u001b[0m\n\u001b[0;32m    353\u001b[0m \u001b[38;5;28;01mdef\u001b[39;00m \u001b[38;5;21mget\u001b[39m(\u001b[38;5;28mself\u001b[39m, url: \u001b[38;5;28mstr\u001b[39m) \u001b[38;5;241m-\u001b[39m\u001b[38;5;241m>\u001b[39m \u001b[38;5;28;01mNone\u001b[39;00m:\n\u001b[0;32m    354\u001b[0m \u001b[38;5;250m    \u001b[39m\u001b[38;5;124;03m\"\"\"Loads a web page in the current browser session.\"\"\"\u001b[39;00m\n\u001b[1;32m--> 355\u001b[0m     \u001b[38;5;28;43mself\u001b[39;49m\u001b[38;5;241;43m.\u001b[39;49m\u001b[43mexecute\u001b[49m\u001b[43m(\u001b[49m\u001b[43mCommand\u001b[49m\u001b[38;5;241;43m.\u001b[39;49m\u001b[43mGET\u001b[49m\u001b[43m,\u001b[49m\u001b[43m \u001b[49m\u001b[43m{\u001b[49m\u001b[38;5;124;43m\"\u001b[39;49m\u001b[38;5;124;43murl\u001b[39;49m\u001b[38;5;124;43m\"\u001b[39;49m\u001b[43m:\u001b[49m\u001b[43m \u001b[49m\u001b[43murl\u001b[49m\u001b[43m}\u001b[49m\u001b[43m)\u001b[49m\n",
      "File \u001b[1;32m~\\AppData\\Local\\Programs\\Python\\Python311\\Lib\\site-packages\\selenium\\webdriver\\remote\\webdriver.py:344\u001b[0m, in \u001b[0;36mWebDriver.execute\u001b[1;34m(self, driver_command, params)\u001b[0m\n\u001b[0;32m    341\u001b[0m     \u001b[38;5;28;01melif\u001b[39;00m \u001b[38;5;124m\"\u001b[39m\u001b[38;5;124msessionId\u001b[39m\u001b[38;5;124m\"\u001b[39m \u001b[38;5;129;01mnot\u001b[39;00m \u001b[38;5;129;01min\u001b[39;00m params:\n\u001b[0;32m    342\u001b[0m         params[\u001b[38;5;124m\"\u001b[39m\u001b[38;5;124msessionId\u001b[39m\u001b[38;5;124m\"\u001b[39m] \u001b[38;5;241m=\u001b[39m \u001b[38;5;28mself\u001b[39m\u001b[38;5;241m.\u001b[39msession_id\n\u001b[1;32m--> 344\u001b[0m response \u001b[38;5;241m=\u001b[39m \u001b[38;5;28;43mself\u001b[39;49m\u001b[38;5;241;43m.\u001b[39;49m\u001b[43mcommand_executor\u001b[49m\u001b[38;5;241;43m.\u001b[39;49m\u001b[43mexecute\u001b[49m\u001b[43m(\u001b[49m\u001b[43mdriver_command\u001b[49m\u001b[43m,\u001b[49m\u001b[43m \u001b[49m\u001b[43mparams\u001b[49m\u001b[43m)\u001b[49m\n\u001b[0;32m    345\u001b[0m \u001b[38;5;28;01mif\u001b[39;00m response:\n\u001b[0;32m    346\u001b[0m     \u001b[38;5;28mself\u001b[39m\u001b[38;5;241m.\u001b[39merror_handler\u001b[38;5;241m.\u001b[39mcheck_response(response)\n",
      "File \u001b[1;32m~\\AppData\\Local\\Programs\\Python\\Python311\\Lib\\site-packages\\selenium\\webdriver\\remote\\remote_connection.py:290\u001b[0m, in \u001b[0;36mRemoteConnection.execute\u001b[1;34m(self, command, params)\u001b[0m\n\u001b[0;32m    288\u001b[0m data \u001b[38;5;241m=\u001b[39m utils\u001b[38;5;241m.\u001b[39mdump_json(params)\n\u001b[0;32m    289\u001b[0m url \u001b[38;5;241m=\u001b[39m \u001b[38;5;124mf\u001b[39m\u001b[38;5;124m\"\u001b[39m\u001b[38;5;132;01m{\u001b[39;00m\u001b[38;5;28mself\u001b[39m\u001b[38;5;241m.\u001b[39m_url\u001b[38;5;132;01m}\u001b[39;00m\u001b[38;5;132;01m{\u001b[39;00mpath\u001b[38;5;132;01m}\u001b[39;00m\u001b[38;5;124m\"\u001b[39m\n\u001b[1;32m--> 290\u001b[0m \u001b[38;5;28;01mreturn\u001b[39;00m \u001b[38;5;28;43mself\u001b[39;49m\u001b[38;5;241;43m.\u001b[39;49m\u001b[43m_request\u001b[49m\u001b[43m(\u001b[49m\u001b[43mcommand_info\u001b[49m\u001b[43m[\u001b[49m\u001b[38;5;241;43m0\u001b[39;49m\u001b[43m]\u001b[49m\u001b[43m,\u001b[49m\u001b[43m \u001b[49m\u001b[43murl\u001b[49m\u001b[43m,\u001b[49m\u001b[43m \u001b[49m\u001b[43mbody\u001b[49m\u001b[38;5;241;43m=\u001b[39;49m\u001b[43mdata\u001b[49m\u001b[43m)\u001b[49m\n",
      "File \u001b[1;32m~\\AppData\\Local\\Programs\\Python\\Python311\\Lib\\site-packages\\selenium\\webdriver\\remote\\remote_connection.py:311\u001b[0m, in \u001b[0;36mRemoteConnection._request\u001b[1;34m(self, method, url, body)\u001b[0m\n\u001b[0;32m    308\u001b[0m     body \u001b[38;5;241m=\u001b[39m \u001b[38;5;28;01mNone\u001b[39;00m\n\u001b[0;32m    310\u001b[0m \u001b[38;5;28;01mif\u001b[39;00m \u001b[38;5;28mself\u001b[39m\u001b[38;5;241m.\u001b[39mkeep_alive:\n\u001b[1;32m--> 311\u001b[0m     response \u001b[38;5;241m=\u001b[39m \u001b[38;5;28;43mself\u001b[39;49m\u001b[38;5;241;43m.\u001b[39;49m\u001b[43m_conn\u001b[49m\u001b[38;5;241;43m.\u001b[39;49m\u001b[43mrequest\u001b[49m\u001b[43m(\u001b[49m\u001b[43mmethod\u001b[49m\u001b[43m,\u001b[49m\u001b[43m \u001b[49m\u001b[43murl\u001b[49m\u001b[43m,\u001b[49m\u001b[43m \u001b[49m\u001b[43mbody\u001b[49m\u001b[38;5;241;43m=\u001b[39;49m\u001b[43mbody\u001b[49m\u001b[43m,\u001b[49m\u001b[43m \u001b[49m\u001b[43mheaders\u001b[49m\u001b[38;5;241;43m=\u001b[39;49m\u001b[43mheaders\u001b[49m\u001b[43m)\u001b[49m\n\u001b[0;32m    312\u001b[0m     statuscode \u001b[38;5;241m=\u001b[39m response\u001b[38;5;241m.\u001b[39mstatus\n\u001b[0;32m    313\u001b[0m \u001b[38;5;28;01melse\u001b[39;00m:\n",
      "File \u001b[1;32m~\\AppData\\Local\\Programs\\Python\\Python311\\Lib\\site-packages\\urllib3\\_request_methods.py:118\u001b[0m, in \u001b[0;36mRequestMethods.request\u001b[1;34m(self, method, url, body, fields, headers, json, **urlopen_kw)\u001b[0m\n\u001b[0;32m    110\u001b[0m     \u001b[38;5;28;01mreturn\u001b[39;00m \u001b[38;5;28mself\u001b[39m\u001b[38;5;241m.\u001b[39mrequest_encode_url(\n\u001b[0;32m    111\u001b[0m         method,\n\u001b[0;32m    112\u001b[0m         url,\n\u001b[1;32m   (...)\u001b[0m\n\u001b[0;32m    115\u001b[0m         \u001b[38;5;241m*\u001b[39m\u001b[38;5;241m*\u001b[39murlopen_kw,\n\u001b[0;32m    116\u001b[0m     )\n\u001b[0;32m    117\u001b[0m \u001b[38;5;28;01melse\u001b[39;00m:\n\u001b[1;32m--> 118\u001b[0m     \u001b[38;5;28;01mreturn\u001b[39;00m \u001b[38;5;28;43mself\u001b[39;49m\u001b[38;5;241;43m.\u001b[39;49m\u001b[43mrequest_encode_body\u001b[49m\u001b[43m(\u001b[49m\n\u001b[0;32m    119\u001b[0m \u001b[43m        \u001b[49m\u001b[43mmethod\u001b[49m\u001b[43m,\u001b[49m\u001b[43m \u001b[49m\u001b[43murl\u001b[49m\u001b[43m,\u001b[49m\u001b[43m \u001b[49m\u001b[43mfields\u001b[49m\u001b[38;5;241;43m=\u001b[39;49m\u001b[43mfields\u001b[49m\u001b[43m,\u001b[49m\u001b[43m \u001b[49m\u001b[43mheaders\u001b[49m\u001b[38;5;241;43m=\u001b[39;49m\u001b[43mheaders\u001b[49m\u001b[43m,\u001b[49m\u001b[43m \u001b[49m\u001b[38;5;241;43m*\u001b[39;49m\u001b[38;5;241;43m*\u001b[39;49m\u001b[43murlopen_kw\u001b[49m\n\u001b[0;32m    120\u001b[0m \u001b[43m    \u001b[49m\u001b[43m)\u001b[49m\n",
      "File \u001b[1;32m~\\AppData\\Local\\Programs\\Python\\Python311\\Lib\\site-packages\\urllib3\\_request_methods.py:217\u001b[0m, in \u001b[0;36mRequestMethods.request_encode_body\u001b[1;34m(self, method, url, fields, headers, encode_multipart, multipart_boundary, **urlopen_kw)\u001b[0m\n\u001b[0;32m    213\u001b[0m     extra_kw[\u001b[38;5;124m\"\u001b[39m\u001b[38;5;124mheaders\u001b[39m\u001b[38;5;124m\"\u001b[39m]\u001b[38;5;241m.\u001b[39msetdefault(\u001b[38;5;124m\"\u001b[39m\u001b[38;5;124mContent-Type\u001b[39m\u001b[38;5;124m\"\u001b[39m, content_type)\n\u001b[0;32m    215\u001b[0m extra_kw\u001b[38;5;241m.\u001b[39mupdate(urlopen_kw)\n\u001b[1;32m--> 217\u001b[0m \u001b[38;5;28;01mreturn\u001b[39;00m \u001b[38;5;28;43mself\u001b[39;49m\u001b[38;5;241;43m.\u001b[39;49m\u001b[43murlopen\u001b[49m\u001b[43m(\u001b[49m\u001b[43mmethod\u001b[49m\u001b[43m,\u001b[49m\u001b[43m \u001b[49m\u001b[43murl\u001b[49m\u001b[43m,\u001b[49m\u001b[43m \u001b[49m\u001b[38;5;241;43m*\u001b[39;49m\u001b[38;5;241;43m*\u001b[39;49m\u001b[43mextra_kw\u001b[49m\u001b[43m)\u001b[49m\n",
      "File \u001b[1;32m~\\AppData\\Local\\Programs\\Python\\Python311\\Lib\\site-packages\\urllib3\\poolmanager.py:443\u001b[0m, in \u001b[0;36mPoolManager.urlopen\u001b[1;34m(self, method, url, redirect, **kw)\u001b[0m\n\u001b[0;32m    441\u001b[0m     response \u001b[38;5;241m=\u001b[39m conn\u001b[38;5;241m.\u001b[39murlopen(method, url, \u001b[38;5;241m*\u001b[39m\u001b[38;5;241m*\u001b[39mkw)\n\u001b[0;32m    442\u001b[0m \u001b[38;5;28;01melse\u001b[39;00m:\n\u001b[1;32m--> 443\u001b[0m     response \u001b[38;5;241m=\u001b[39m \u001b[43mconn\u001b[49m\u001b[38;5;241;43m.\u001b[39;49m\u001b[43murlopen\u001b[49m\u001b[43m(\u001b[49m\u001b[43mmethod\u001b[49m\u001b[43m,\u001b[49m\u001b[43m \u001b[49m\u001b[43mu\u001b[49m\u001b[38;5;241;43m.\u001b[39;49m\u001b[43mrequest_uri\u001b[49m\u001b[43m,\u001b[49m\u001b[43m \u001b[49m\u001b[38;5;241;43m*\u001b[39;49m\u001b[38;5;241;43m*\u001b[39;49m\u001b[43mkw\u001b[49m\u001b[43m)\u001b[49m\n\u001b[0;32m    445\u001b[0m redirect_location \u001b[38;5;241m=\u001b[39m redirect \u001b[38;5;129;01mand\u001b[39;00m response\u001b[38;5;241m.\u001b[39mget_redirect_location()\n\u001b[0;32m    446\u001b[0m \u001b[38;5;28;01mif\u001b[39;00m \u001b[38;5;129;01mnot\u001b[39;00m redirect_location:\n",
      "File \u001b[1;32m~\\AppData\\Local\\Programs\\Python\\Python311\\Lib\\site-packages\\urllib3\\connectionpool.py:874\u001b[0m, in \u001b[0;36mHTTPConnectionPool.urlopen\u001b[1;34m(self, method, url, body, headers, retries, redirect, assert_same_host, timeout, pool_timeout, release_conn, chunked, body_pos, preload_content, decode_content, **response_kw)\u001b[0m\n\u001b[0;32m    869\u001b[0m \u001b[38;5;28;01mif\u001b[39;00m \u001b[38;5;129;01mnot\u001b[39;00m conn:\n\u001b[0;32m    870\u001b[0m     \u001b[38;5;66;03m# Try again\u001b[39;00m\n\u001b[0;32m    871\u001b[0m     log\u001b[38;5;241m.\u001b[39mwarning(\n\u001b[0;32m    872\u001b[0m         \u001b[38;5;124m\"\u001b[39m\u001b[38;5;124mRetrying (\u001b[39m\u001b[38;5;132;01m%r\u001b[39;00m\u001b[38;5;124m) after connection broken by \u001b[39m\u001b[38;5;124m'\u001b[39m\u001b[38;5;132;01m%r\u001b[39;00m\u001b[38;5;124m'\u001b[39m\u001b[38;5;124m: \u001b[39m\u001b[38;5;132;01m%s\u001b[39;00m\u001b[38;5;124m\"\u001b[39m, retries, err, url\n\u001b[0;32m    873\u001b[0m     )\n\u001b[1;32m--> 874\u001b[0m     \u001b[38;5;28;01mreturn\u001b[39;00m \u001b[38;5;28;43mself\u001b[39;49m\u001b[38;5;241;43m.\u001b[39;49m\u001b[43murlopen\u001b[49m\u001b[43m(\u001b[49m\n\u001b[0;32m    875\u001b[0m \u001b[43m        \u001b[49m\u001b[43mmethod\u001b[49m\u001b[43m,\u001b[49m\n\u001b[0;32m    876\u001b[0m \u001b[43m        \u001b[49m\u001b[43murl\u001b[49m\u001b[43m,\u001b[49m\n\u001b[0;32m    877\u001b[0m \u001b[43m        \u001b[49m\u001b[43mbody\u001b[49m\u001b[43m,\u001b[49m\n\u001b[0;32m    878\u001b[0m \u001b[43m        \u001b[49m\u001b[43mheaders\u001b[49m\u001b[43m,\u001b[49m\n\u001b[0;32m    879\u001b[0m \u001b[43m        \u001b[49m\u001b[43mretries\u001b[49m\u001b[43m,\u001b[49m\n\u001b[0;32m    880\u001b[0m \u001b[43m        \u001b[49m\u001b[43mredirect\u001b[49m\u001b[43m,\u001b[49m\n\u001b[0;32m    881\u001b[0m \u001b[43m        \u001b[49m\u001b[43massert_same_host\u001b[49m\u001b[43m,\u001b[49m\n\u001b[0;32m    882\u001b[0m \u001b[43m        \u001b[49m\u001b[43mtimeout\u001b[49m\u001b[38;5;241;43m=\u001b[39;49m\u001b[43mtimeout\u001b[49m\u001b[43m,\u001b[49m\n\u001b[0;32m    883\u001b[0m \u001b[43m        \u001b[49m\u001b[43mpool_timeout\u001b[49m\u001b[38;5;241;43m=\u001b[39;49m\u001b[43mpool_timeout\u001b[49m\u001b[43m,\u001b[49m\n\u001b[0;32m    884\u001b[0m \u001b[43m        \u001b[49m\u001b[43mrelease_conn\u001b[49m\u001b[38;5;241;43m=\u001b[39;49m\u001b[43mrelease_conn\u001b[49m\u001b[43m,\u001b[49m\n\u001b[0;32m    885\u001b[0m \u001b[43m        \u001b[49m\u001b[43mchunked\u001b[49m\u001b[38;5;241;43m=\u001b[39;49m\u001b[43mchunked\u001b[49m\u001b[43m,\u001b[49m\n\u001b[0;32m    886\u001b[0m \u001b[43m        \u001b[49m\u001b[43mbody_pos\u001b[49m\u001b[38;5;241;43m=\u001b[39;49m\u001b[43mbody_pos\u001b[49m\u001b[43m,\u001b[49m\n\u001b[0;32m    887\u001b[0m \u001b[43m        \u001b[49m\u001b[43mpreload_content\u001b[49m\u001b[38;5;241;43m=\u001b[39;49m\u001b[43mpreload_content\u001b[49m\u001b[43m,\u001b[49m\n\u001b[0;32m    888\u001b[0m \u001b[43m        \u001b[49m\u001b[43mdecode_content\u001b[49m\u001b[38;5;241;43m=\u001b[39;49m\u001b[43mdecode_content\u001b[49m\u001b[43m,\u001b[49m\n\u001b[0;32m    889\u001b[0m \u001b[43m        \u001b[49m\u001b[38;5;241;43m*\u001b[39;49m\u001b[38;5;241;43m*\u001b[39;49m\u001b[43mresponse_kw\u001b[49m\u001b[43m,\u001b[49m\n\u001b[0;32m    890\u001b[0m \u001b[43m    \u001b[49m\u001b[43m)\u001b[49m\n\u001b[0;32m    892\u001b[0m \u001b[38;5;66;03m# Handle redirect?\u001b[39;00m\n\u001b[0;32m    893\u001b[0m redirect_location \u001b[38;5;241m=\u001b[39m redirect \u001b[38;5;129;01mand\u001b[39;00m response\u001b[38;5;241m.\u001b[39mget_redirect_location()\n",
      "File \u001b[1;32m~\\AppData\\Local\\Programs\\Python\\Python311\\Lib\\site-packages\\urllib3\\connectionpool.py:874\u001b[0m, in \u001b[0;36mHTTPConnectionPool.urlopen\u001b[1;34m(self, method, url, body, headers, retries, redirect, assert_same_host, timeout, pool_timeout, release_conn, chunked, body_pos, preload_content, decode_content, **response_kw)\u001b[0m\n\u001b[0;32m    869\u001b[0m \u001b[38;5;28;01mif\u001b[39;00m \u001b[38;5;129;01mnot\u001b[39;00m conn:\n\u001b[0;32m    870\u001b[0m     \u001b[38;5;66;03m# Try again\u001b[39;00m\n\u001b[0;32m    871\u001b[0m     log\u001b[38;5;241m.\u001b[39mwarning(\n\u001b[0;32m    872\u001b[0m         \u001b[38;5;124m\"\u001b[39m\u001b[38;5;124mRetrying (\u001b[39m\u001b[38;5;132;01m%r\u001b[39;00m\u001b[38;5;124m) after connection broken by \u001b[39m\u001b[38;5;124m'\u001b[39m\u001b[38;5;132;01m%r\u001b[39;00m\u001b[38;5;124m'\u001b[39m\u001b[38;5;124m: \u001b[39m\u001b[38;5;132;01m%s\u001b[39;00m\u001b[38;5;124m\"\u001b[39m, retries, err, url\n\u001b[0;32m    873\u001b[0m     )\n\u001b[1;32m--> 874\u001b[0m     \u001b[38;5;28;01mreturn\u001b[39;00m \u001b[38;5;28;43mself\u001b[39;49m\u001b[38;5;241;43m.\u001b[39;49m\u001b[43murlopen\u001b[49m\u001b[43m(\u001b[49m\n\u001b[0;32m    875\u001b[0m \u001b[43m        \u001b[49m\u001b[43mmethod\u001b[49m\u001b[43m,\u001b[49m\n\u001b[0;32m    876\u001b[0m \u001b[43m        \u001b[49m\u001b[43murl\u001b[49m\u001b[43m,\u001b[49m\n\u001b[0;32m    877\u001b[0m \u001b[43m        \u001b[49m\u001b[43mbody\u001b[49m\u001b[43m,\u001b[49m\n\u001b[0;32m    878\u001b[0m \u001b[43m        \u001b[49m\u001b[43mheaders\u001b[49m\u001b[43m,\u001b[49m\n\u001b[0;32m    879\u001b[0m \u001b[43m        \u001b[49m\u001b[43mretries\u001b[49m\u001b[43m,\u001b[49m\n\u001b[0;32m    880\u001b[0m \u001b[43m        \u001b[49m\u001b[43mredirect\u001b[49m\u001b[43m,\u001b[49m\n\u001b[0;32m    881\u001b[0m \u001b[43m        \u001b[49m\u001b[43massert_same_host\u001b[49m\u001b[43m,\u001b[49m\n\u001b[0;32m    882\u001b[0m \u001b[43m        \u001b[49m\u001b[43mtimeout\u001b[49m\u001b[38;5;241;43m=\u001b[39;49m\u001b[43mtimeout\u001b[49m\u001b[43m,\u001b[49m\n\u001b[0;32m    883\u001b[0m \u001b[43m        \u001b[49m\u001b[43mpool_timeout\u001b[49m\u001b[38;5;241;43m=\u001b[39;49m\u001b[43mpool_timeout\u001b[49m\u001b[43m,\u001b[49m\n\u001b[0;32m    884\u001b[0m \u001b[43m        \u001b[49m\u001b[43mrelease_conn\u001b[49m\u001b[38;5;241;43m=\u001b[39;49m\u001b[43mrelease_conn\u001b[49m\u001b[43m,\u001b[49m\n\u001b[0;32m    885\u001b[0m \u001b[43m        \u001b[49m\u001b[43mchunked\u001b[49m\u001b[38;5;241;43m=\u001b[39;49m\u001b[43mchunked\u001b[49m\u001b[43m,\u001b[49m\n\u001b[0;32m    886\u001b[0m \u001b[43m        \u001b[49m\u001b[43mbody_pos\u001b[49m\u001b[38;5;241;43m=\u001b[39;49m\u001b[43mbody_pos\u001b[49m\u001b[43m,\u001b[49m\n\u001b[0;32m    887\u001b[0m \u001b[43m        \u001b[49m\u001b[43mpreload_content\u001b[49m\u001b[38;5;241;43m=\u001b[39;49m\u001b[43mpreload_content\u001b[49m\u001b[43m,\u001b[49m\n\u001b[0;32m    888\u001b[0m \u001b[43m        \u001b[49m\u001b[43mdecode_content\u001b[49m\u001b[38;5;241;43m=\u001b[39;49m\u001b[43mdecode_content\u001b[49m\u001b[43m,\u001b[49m\n\u001b[0;32m    889\u001b[0m \u001b[43m        \u001b[49m\u001b[38;5;241;43m*\u001b[39;49m\u001b[38;5;241;43m*\u001b[39;49m\u001b[43mresponse_kw\u001b[49m\u001b[43m,\u001b[49m\n\u001b[0;32m    890\u001b[0m \u001b[43m    \u001b[49m\u001b[43m)\u001b[49m\n\u001b[0;32m    892\u001b[0m \u001b[38;5;66;03m# Handle redirect?\u001b[39;00m\n\u001b[0;32m    893\u001b[0m redirect_location \u001b[38;5;241m=\u001b[39m redirect \u001b[38;5;129;01mand\u001b[39;00m response\u001b[38;5;241m.\u001b[39mget_redirect_location()\n",
      "File \u001b[1;32m~\\AppData\\Local\\Programs\\Python\\Python311\\Lib\\site-packages\\urllib3\\connectionpool.py:874\u001b[0m, in \u001b[0;36mHTTPConnectionPool.urlopen\u001b[1;34m(self, method, url, body, headers, retries, redirect, assert_same_host, timeout, pool_timeout, release_conn, chunked, body_pos, preload_content, decode_content, **response_kw)\u001b[0m\n\u001b[0;32m    869\u001b[0m \u001b[38;5;28;01mif\u001b[39;00m \u001b[38;5;129;01mnot\u001b[39;00m conn:\n\u001b[0;32m    870\u001b[0m     \u001b[38;5;66;03m# Try again\u001b[39;00m\n\u001b[0;32m    871\u001b[0m     log\u001b[38;5;241m.\u001b[39mwarning(\n\u001b[0;32m    872\u001b[0m         \u001b[38;5;124m\"\u001b[39m\u001b[38;5;124mRetrying (\u001b[39m\u001b[38;5;132;01m%r\u001b[39;00m\u001b[38;5;124m) after connection broken by \u001b[39m\u001b[38;5;124m'\u001b[39m\u001b[38;5;132;01m%r\u001b[39;00m\u001b[38;5;124m'\u001b[39m\u001b[38;5;124m: \u001b[39m\u001b[38;5;132;01m%s\u001b[39;00m\u001b[38;5;124m\"\u001b[39m, retries, err, url\n\u001b[0;32m    873\u001b[0m     )\n\u001b[1;32m--> 874\u001b[0m     \u001b[38;5;28;01mreturn\u001b[39;00m \u001b[38;5;28;43mself\u001b[39;49m\u001b[38;5;241;43m.\u001b[39;49m\u001b[43murlopen\u001b[49m\u001b[43m(\u001b[49m\n\u001b[0;32m    875\u001b[0m \u001b[43m        \u001b[49m\u001b[43mmethod\u001b[49m\u001b[43m,\u001b[49m\n\u001b[0;32m    876\u001b[0m \u001b[43m        \u001b[49m\u001b[43murl\u001b[49m\u001b[43m,\u001b[49m\n\u001b[0;32m    877\u001b[0m \u001b[43m        \u001b[49m\u001b[43mbody\u001b[49m\u001b[43m,\u001b[49m\n\u001b[0;32m    878\u001b[0m \u001b[43m        \u001b[49m\u001b[43mheaders\u001b[49m\u001b[43m,\u001b[49m\n\u001b[0;32m    879\u001b[0m \u001b[43m        \u001b[49m\u001b[43mretries\u001b[49m\u001b[43m,\u001b[49m\n\u001b[0;32m    880\u001b[0m \u001b[43m        \u001b[49m\u001b[43mredirect\u001b[49m\u001b[43m,\u001b[49m\n\u001b[0;32m    881\u001b[0m \u001b[43m        \u001b[49m\u001b[43massert_same_host\u001b[49m\u001b[43m,\u001b[49m\n\u001b[0;32m    882\u001b[0m \u001b[43m        \u001b[49m\u001b[43mtimeout\u001b[49m\u001b[38;5;241;43m=\u001b[39;49m\u001b[43mtimeout\u001b[49m\u001b[43m,\u001b[49m\n\u001b[0;32m    883\u001b[0m \u001b[43m        \u001b[49m\u001b[43mpool_timeout\u001b[49m\u001b[38;5;241;43m=\u001b[39;49m\u001b[43mpool_timeout\u001b[49m\u001b[43m,\u001b[49m\n\u001b[0;32m    884\u001b[0m \u001b[43m        \u001b[49m\u001b[43mrelease_conn\u001b[49m\u001b[38;5;241;43m=\u001b[39;49m\u001b[43mrelease_conn\u001b[49m\u001b[43m,\u001b[49m\n\u001b[0;32m    885\u001b[0m \u001b[43m        \u001b[49m\u001b[43mchunked\u001b[49m\u001b[38;5;241;43m=\u001b[39;49m\u001b[43mchunked\u001b[49m\u001b[43m,\u001b[49m\n\u001b[0;32m    886\u001b[0m \u001b[43m        \u001b[49m\u001b[43mbody_pos\u001b[49m\u001b[38;5;241;43m=\u001b[39;49m\u001b[43mbody_pos\u001b[49m\u001b[43m,\u001b[49m\n\u001b[0;32m    887\u001b[0m \u001b[43m        \u001b[49m\u001b[43mpreload_content\u001b[49m\u001b[38;5;241;43m=\u001b[39;49m\u001b[43mpreload_content\u001b[49m\u001b[43m,\u001b[49m\n\u001b[0;32m    888\u001b[0m \u001b[43m        \u001b[49m\u001b[43mdecode_content\u001b[49m\u001b[38;5;241;43m=\u001b[39;49m\u001b[43mdecode_content\u001b[49m\u001b[43m,\u001b[49m\n\u001b[0;32m    889\u001b[0m \u001b[43m        \u001b[49m\u001b[38;5;241;43m*\u001b[39;49m\u001b[38;5;241;43m*\u001b[39;49m\u001b[43mresponse_kw\u001b[49m\u001b[43m,\u001b[49m\n\u001b[0;32m    890\u001b[0m \u001b[43m    \u001b[49m\u001b[43m)\u001b[49m\n\u001b[0;32m    892\u001b[0m \u001b[38;5;66;03m# Handle redirect?\u001b[39;00m\n\u001b[0;32m    893\u001b[0m redirect_location \u001b[38;5;241m=\u001b[39m redirect \u001b[38;5;129;01mand\u001b[39;00m response\u001b[38;5;241m.\u001b[39mget_redirect_location()\n",
      "File \u001b[1;32m~\\AppData\\Local\\Programs\\Python\\Python311\\Lib\\site-packages\\urllib3\\connectionpool.py:844\u001b[0m, in \u001b[0;36mHTTPConnectionPool.urlopen\u001b[1;34m(self, method, url, body, headers, retries, redirect, assert_same_host, timeout, pool_timeout, release_conn, chunked, body_pos, preload_content, decode_content, **response_kw)\u001b[0m\n\u001b[0;32m    841\u001b[0m \u001b[38;5;28;01melif\u001b[39;00m \u001b[38;5;28misinstance\u001b[39m(new_e, (\u001b[38;5;167;01mOSError\u001b[39;00m, HTTPException)):\n\u001b[0;32m    842\u001b[0m     new_e \u001b[38;5;241m=\u001b[39m ProtocolError(\u001b[38;5;124m\"\u001b[39m\u001b[38;5;124mConnection aborted.\u001b[39m\u001b[38;5;124m\"\u001b[39m, new_e)\n\u001b[1;32m--> 844\u001b[0m retries \u001b[38;5;241m=\u001b[39m \u001b[43mretries\u001b[49m\u001b[38;5;241;43m.\u001b[39;49m\u001b[43mincrement\u001b[49m\u001b[43m(\u001b[49m\n\u001b[0;32m    845\u001b[0m \u001b[43m    \u001b[49m\u001b[43mmethod\u001b[49m\u001b[43m,\u001b[49m\u001b[43m \u001b[49m\u001b[43murl\u001b[49m\u001b[43m,\u001b[49m\u001b[43m \u001b[49m\u001b[43merror\u001b[49m\u001b[38;5;241;43m=\u001b[39;49m\u001b[43mnew_e\u001b[49m\u001b[43m,\u001b[49m\u001b[43m \u001b[49m\u001b[43m_pool\u001b[49m\u001b[38;5;241;43m=\u001b[39;49m\u001b[38;5;28;43mself\u001b[39;49m\u001b[43m,\u001b[49m\u001b[43m \u001b[49m\u001b[43m_stacktrace\u001b[49m\u001b[38;5;241;43m=\u001b[39;49m\u001b[43msys\u001b[49m\u001b[38;5;241;43m.\u001b[39;49m\u001b[43mexc_info\u001b[49m\u001b[43m(\u001b[49m\u001b[43m)\u001b[49m\u001b[43m[\u001b[49m\u001b[38;5;241;43m2\u001b[39;49m\u001b[43m]\u001b[49m\n\u001b[0;32m    846\u001b[0m \u001b[43m\u001b[49m\u001b[43m)\u001b[49m\n\u001b[0;32m    847\u001b[0m retries\u001b[38;5;241m.\u001b[39msleep()\n\u001b[0;32m    849\u001b[0m \u001b[38;5;66;03m# Keep track of the error for the retry warning.\u001b[39;00m\n",
      "File \u001b[1;32m~\\AppData\\Local\\Programs\\Python\\Python311\\Lib\\site-packages\\urllib3\\util\\retry.py:515\u001b[0m, in \u001b[0;36mRetry.increment\u001b[1;34m(self, method, url, response, error, _pool, _stacktrace)\u001b[0m\n\u001b[0;32m    513\u001b[0m \u001b[38;5;28;01mif\u001b[39;00m new_retry\u001b[38;5;241m.\u001b[39mis_exhausted():\n\u001b[0;32m    514\u001b[0m     reason \u001b[38;5;241m=\u001b[39m error \u001b[38;5;129;01mor\u001b[39;00m ResponseError(cause)\n\u001b[1;32m--> 515\u001b[0m     \u001b[38;5;28;01mraise\u001b[39;00m MaxRetryError(_pool, url, reason) \u001b[38;5;28;01mfrom\u001b[39;00m \u001b[38;5;21;01mreason\u001b[39;00m  \u001b[38;5;66;03m# type: ignore[arg-type]\u001b[39;00m\n\u001b[0;32m    517\u001b[0m log\u001b[38;5;241m.\u001b[39mdebug(\u001b[38;5;124m\"\u001b[39m\u001b[38;5;124mIncremented Retry for (url=\u001b[39m\u001b[38;5;124m'\u001b[39m\u001b[38;5;132;01m%s\u001b[39;00m\u001b[38;5;124m'\u001b[39m\u001b[38;5;124m): \u001b[39m\u001b[38;5;132;01m%r\u001b[39;00m\u001b[38;5;124m\"\u001b[39m, url, new_retry)\n\u001b[0;32m    519\u001b[0m \u001b[38;5;28;01mreturn\u001b[39;00m new_retry\n",
      "\u001b[1;31mMaxRetryError\u001b[0m: HTTPConnectionPool(host='localhost', port=64699): Max retries exceeded with url: /session/b0493b62c7aa4876fc06a6d8cc956ec8/url (Caused by NewConnectionError('<urllib3.connection.HTTPConnection object at 0x000001E95A600D50>: Failed to establish a new connection: [WinError 10061] 대상 컴퓨터에서 연결을 거부했으므로 연결하지 못했습니다'))"
     ]
    }
   ],
   "source": [
    "browser.get(final_list[0][0]+\"&sk=about_places\")\n",
    "soup2 = bs(browser.page_source, \"html.parser\")\n",
    "print(soup2.find(\"h1\").text)\n",
    "soup2 = soup2.find(class_=\"xyamay9 xqmdsaz x1gan7if x1swvt13\")\n",
    "information = soup2.text\n",
    "print(information)"
   ]
  },
  {
   "cell_type": "code",
   "execution_count": 24,
   "id": "3243800c",
   "metadata": {},
   "outputs": [
    {
     "name": "stdout",
     "output_type": "stream",
     "text": [
      "Requirement already satisfied: pandas in c:\\users\\dltkd\\appdata\\local\\programs\\python\\python311\\lib\\site-packages (2.0.2)\n",
      "Requirement already satisfied: python-dateutil>=2.8.2 in c:\\users\\dltkd\\appdata\\local\\programs\\python\\python311\\lib\\site-packages (from pandas) (2.8.2)\n",
      "Requirement already satisfied: pytz>=2020.1 in c:\\users\\dltkd\\appdata\\local\\programs\\python\\python311\\lib\\site-packages (from pandas) (2023.3)\n",
      "Requirement already satisfied: tzdata>=2022.1 in c:\\users\\dltkd\\appdata\\local\\programs\\python\\python311\\lib\\site-packages (from pandas) (2023.3)\n",
      "Requirement already satisfied: numpy>=1.21.0 in c:\\users\\dltkd\\appdata\\local\\programs\\python\\python311\\lib\\site-packages (from pandas) (1.25.0)\n",
      "Requirement already satisfied: six>=1.5 in c:\\users\\dltkd\\appdata\\local\\programs\\python\\python311\\lib\\site-packages (from python-dateutil>=2.8.2->pandas) (1.16.0)\n",
      "Note: you may need to restart the kernel to use updated packages.\n"
     ]
    }
   ],
   "source": [
    "pip install pandas"
   ]
  },
  {
   "cell_type": "code",
   "execution_count": null,
   "id": "dba29363",
   "metadata": {},
   "outputs": [],
   "source": []
  }
 ],
 "metadata": {
  "kernelspec": {
   "display_name": "Python 3 (ipykernel)",
   "language": "python",
   "name": "python3"
  },
  "language_info": {
   "codemirror_mode": {
    "name": "ipython",
    "version": 3
   },
   "file_extension": ".py",
   "mimetype": "text/x-python",
   "name": "python",
   "nbconvert_exporter": "python",
   "pygments_lexer": "ipython3",
   "version": "3.10.9"
  }
 },
 "nbformat": 4,
 "nbformat_minor": 5
}
