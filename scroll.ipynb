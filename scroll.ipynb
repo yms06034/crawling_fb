{
 "cells": [
  {
   "cell_type": "code",
   "execution_count": 13,
   "id": "8420850f",
   "metadata": {},
   "outputs": [],
   "source": [
    "from webdriver_manager.chrome import ChromeDriverManager\n",
    "\n",
    "from selenium import webdriver\n",
    "from selenium.webdriver.common.keys import Keys\n",
    "from selenium.webdriver.chrome.service import Service\n",
    "\n",
    "from bs4 import BeautifulSoup as bs\n",
    "import requests\n",
    "import pandas as pd\n",
    "\n",
    "import pyperclip\n",
    "import time\n",
    "import datetime"
   ]
  },
  {
   "cell_type": "code",
   "execution_count": 17,
   "id": "aa83c95c",
   "metadata": {},
   "outputs": [],
   "source": [
    "browser =  webdriver.Chrome()\n",
    "browser.get(\"https://www.facebook.com/groups/171371239873412/members\")"
   ]
  },
  {
   "cell_type": "code",
   "execution_count": 20,
   "id": "ea5993f0",
   "metadata": {},
   "outputs": [],
   "source": [
    "soup = bs(browser.page_source, \"html.parser\")"
   ]
  },
  {
   "cell_type": "code",
   "execution_count": 42,
   "id": "9c2847f9",
   "metadata": {},
   "outputs": [],
   "source": [
    "s = browser.find_element('xpath', '//*[@id=\"mount_0_0_1j\"]/div/div[1]/div/div[3]/div/div/div/div[1]/div[1]/div/div[2]/div/div/div[4]/div/div/div/div/div/div/div/div/div/div/div[1]/div/div/div/div/div[1]/h2/span/span/span/strong')"
   ]
  },
  {
   "cell_type": "code",
   "execution_count": 49,
   "id": "419fe273",
   "metadata": {},
   "outputs": [
    {
     "name": "stdout",
     "output_type": "stream",
     "text": [
      "254\n"
     ]
    }
   ],
   "source": [
    "print(s.text[4:])"
   ]
  },
  {
   "cell_type": "code",
   "execution_count": null,
   "id": "fd48a3db",
   "metadata": {},
   "outputs": [],
   "source": [
    "    # scroll to bottom\n",
    "    member = browser.find_element('xpath', '//*[@id=\"mount_0_0_1j\"]/div/div[1]/div/div[3]/div/div/div/div[1]/div[1]/div/div[2]/div/div/div[4]/div/div/div/div/div/div/div/div/div/div/div[1]/div/div/div/div/div[1]/h2/span/span/span/strong')\n",
    "    member = member.text[4:]\n",
    "    while True:\n",
    "        top_to_bottom(browser)\n",
    "        time.sleep(1.5)\n",
    "\n",
    "        #get pofile links\n",
    "        soup_profile = bs(browser.page_source, \"html.parser\")\n",
    "        h_list = soup_profile.find_all('h1')\n",
    "        top_elements = soup_profile.find_all(class_=\"x1lq5wgf xgqcy7u x30kzoy x9jhf4c x1lliihq\")\n",
    "\n",
    "        #get profile links\n",
    "        profile_list = []\n",
    "        profile_href = []\n",
    "        for j in top_elements:\n",
    "            profile_list.append(j.find(\"a\").attrs['href'])\n",
    "        if len(profile_list) >= member:\n",
    "            break\n",
    "\n",
    "    for j in profile_list:\n",
    "        profile_href.append('https://www.facebook.com/profile.php?id='+j[j.index('user/')+5:-1])\n",
    "    \n",
    "    #get group name\n",
    "    for h in h_list:\n",
    "        if h.text == '알림': continue\n",
    "        elif h.text == '검색결과': continue\n",
    "        else: g_name = h.text\n",
    "    print(g_name)"
   ]
  }
 ],
 "metadata": {
  "kernelspec": {
   "display_name": "Python 3 (ipykernel)",
   "language": "python",
   "name": "python3"
  },
  "language_info": {
   "codemirror_mode": {
    "name": "ipython",
    "version": 3
   },
   "file_extension": ".py",
   "mimetype": "text/x-python",
   "name": "python",
   "nbconvert_exporter": "python",
   "pygments_lexer": "ipython3",
   "version": "3.10.9"
  }
 },
 "nbformat": 4,
 "nbformat_minor": 5
}
