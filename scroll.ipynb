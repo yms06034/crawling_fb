{
 "cells": [
  {
   "cell_type": "code",
   "execution_count": 13,
   "id": "325528cb",
   "metadata": {},
   "outputs": [],
   "source": [
    "from webdriver_manager.chrome import ChromeDriverManager\n",
    "\n",
    "from selenium import webdriver\n",
    "from selenium.webdriver.common.keys import Keys\n",
    "from selenium.webdriver.chrome.service import Service\n",
    "\n",
    "from bs4 import BeautifulSoup as bs\n",
    "import requests\n",
    "import pandas as pd\n",
    "\n",
    "import pyperclip\n",
    "import time\n",
    "import datetime"
   ]
  },
  {
   "cell_type": "code",
   "execution_count": 63,
   "id": "cfed0783",
   "metadata": {},
   "outputs": [],
   "source": [
    "browser =  webdriver.Chrome()\n",
    "browser.get(\"https://www.facebook.com/groups/171371239873412/members\")"
   ]
  },
  {
   "cell_type": "code",
   "execution_count": 86,
   "id": "c769f2fe",
   "metadata": {
    "scrolled": false
   },
   "outputs": [
    {
     "name": "stdout",
     "output_type": "stream",
     "text": [
      "254\n",
      "1\n",
      "2\n",
      "19664\n",
      "19664\n",
      "4\n",
      "247\n",
      "254\n",
      "221.6\n",
      "247\n",
      "254\n"
     ]
    }
   ],
   "source": [
    "member = browser.find_element('xpath', '/html/body/div[1]/div/div[1]/div/div[3]/div/div/div/div[1]/div[1]/div/div[2]/div/div/div[4]/div/div/div/div/div/div/div/div/div/div/div[1]/div/div/div/div/div[1]/h2/span/span/span/strong')\n",
    "member = member.text[4:]\n",
    "while True:\n",
    "    top_to_bottom(browser)\n",
    "    time.sleep(1.5)\n",
    "\n",
    "    #get pofile links\n",
    "    soup_profile = bs(browser.page_source, \"html.parser\")\n",
    "    h_list = soup_profile.find_all('h1')\n",
    "    top_elements = soup_profile.find_all(class_=\"x1lq5wgf xgqcy7u x30kzoy x9jhf4c x1lliihq\")\n",
    "    \n",
    "    #get profile links\n",
    "    profile_list = []\n",
    "    profile_href = []\n",
    "    for j in top_elements:\n",
    "        profile_list.append(j.find(\"a\").attrs['href'])\n",
    "\n",
    "    if len(profile_list) >= (int(member)*0.9):\n",
    "        break"
   ]
  },
  {
   "cell_type": "code",
   "execution_count": 62,
   "id": "1e28bed6",
   "metadata": {},
   "outputs": [
    {
     "name": "stdout",
     "output_type": "stream",
     "text": [
      "494 254\n"
     ]
    }
   ],
   "source": [
    "for j in top_elements:\n",
    "    profile_list.append(j.find(\"a\").attrs['href'])\n",
    "print(len(profile_list), int(member))"
   ]
  },
  {
   "cell_type": "code",
   "execution_count": 80,
   "id": "65a6353c",
   "metadata": {},
   "outputs": [],
   "source": [
    "def top_to_bottom(browser, i = None):\n",
    "    start = time.time()\n",
    "    last_height = browser.execute_script(\"return document.body.scrollHeight\")\n",
    "    while True:\n",
    "        browser.execute_script(\"window.scrollTo(0, document.body.scrollHeight);\")\n",
    "\n",
    "        time.sleep(2.5)\n",
    "\n",
    "        new_height = browser.execute_script(\"return document.body.scrollHeight\")\n",
    "        if new_height == last_height:\n",
    "            time.sleep(1)\n",
    "            new_height = browser.execute_script(\"return document.body.scrollHeight\")\n",
    "            if new_height == last_height:\n",
    "                return\n",
    "        last_height = new_height  \n",
    "        if i:\n",
    "            if (time.time() - start) > i:\n",
    "                break"
   ]
  },
  {
   "cell_type": "code",
   "execution_count": 89,
   "id": "716d6263",
   "metadata": {},
   "outputs": [],
   "source": [
    "member = '1,809'"
   ]
  },
  {
   "cell_type": "code",
   "execution_count": 93,
   "id": "54b252c4",
   "metadata": {},
   "outputs": [],
   "source": [
    "member = member.replace(',','')"
   ]
  },
  {
   "cell_type": "code",
   "execution_count": 94,
   "id": "263406fe",
   "metadata": {},
   "outputs": [
    {
     "data": {
      "text/plain": [
       "'1809'"
      ]
     },
     "execution_count": 94,
     "metadata": {},
     "output_type": "execute_result"
    }
   ],
   "source": [
    "member"
   ]
  },
  {
   "cell_type": "code",
   "execution_count": null,
   "id": "0db460f8",
   "metadata": {},
   "outputs": [],
   "source": []
  }
 ],
 "metadata": {
  "kernelspec": {
   "display_name": "Python 3 (ipykernel)",
   "language": "python",
   "name": "python3"
  },
  "language_info": {
   "codemirror_mode": {
    "name": "ipython",
    "version": 3
   },
   "file_extension": ".py",
   "mimetype": "text/x-python",
   "name": "python",
   "nbconvert_exporter": "python",
   "pygments_lexer": "ipython3",
   "version": "3.10.9"
  }
 },
 "nbformat": 4,
 "nbformat_minor": 5
}
