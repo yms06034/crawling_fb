{
 "cells": [
  {
   "cell_type": "code",
   "execution_count": null,
   "id": "0bef02c2",
   "metadata": {},
   "outputs": [],
   "source": [
    "browser = selenium_driver()\n",
    "login(browser)\n",
    "search(browser, '여행')\n",
    "top_to_bottom(browser)\n",
    "group_link= get_links_groups(browser)\n",
    "profiles_link = []\n",
    "name, contact, city = [], [], []\n",
    "for i in group_link:\n",
    "    browser.get(i)\n",
    "    top_to_bottom(browser)\n",
    "    temp_profile_link = get_links_profile(browser)\n",
    "    profiles_link.append(temp_profile_link)\n",
    "    t_name, t_contact, t_city = get_info(browser, temp_profile_link)\n",
    "    timestamp = datetime.datetime.now()\n",
    "    t_stamp = timestamp.strftime(\"%Y-%m-%d_%H%M%S\")\n",
    "    print_csv(f'{keyword[:-1]}_'+t_stamp, name, contact, city)\n",
    "        "
   ]
  },
  {
   "cell_type": "code",
   "execution_count": 19,
   "id": "002f325f",
   "metadata": {},
   "outputs": [],
   "source": [
    "login(browser)"
   ]
  },
  {
   "cell_type": "code",
   "execution_count": 20,
   "id": "d8df61a3",
   "metadata": {},
   "outputs": [],
   "source": [
    "search(browser, '여행')"
   ]
  },
  {
   "cell_type": "code",
   "execution_count": 24,
   "id": "621b2e0c",
   "metadata": {},
   "outputs": [],
   "source": [
    "top_to_bottom(browser)"
   ]
  },
  {
   "cell_type": "code",
   "execution_count": 22,
   "id": "6e58eb8a",
   "metadata": {},
   "outputs": [],
   "source": [
    "group_link= get_links_groups(browser)"
   ]
  },
  {
   "cell_type": "code",
   "execution_count": 23,
   "id": "6e8b3403",
   "metadata": {},
   "outputs": [],
   "source": [
    "browser.get(group_link[0])"
   ]
  },
  {
   "cell_type": "code",
   "execution_count": 218,
   "id": "d61dc300",
   "metadata": {},
   "outputs": [],
   "source": [
    "final_list = get_links_profile(b)"
   ]
  },
  {
   "cell_type": "code",
   "execution_count": 25,
   "id": "159dd7f2",
   "metadata": {
    "scrolled": false
   },
   "outputs": [],
   "source": [
    "temp_profile_link = get_links_profile(browser)"
   ]
  },
  {
   "cell_type": "code",
   "execution_count": 27,
   "id": "f8ba8748",
   "metadata": {},
   "outputs": [],
   "source": [
    "name = [1, 2, 3, 4, 5]\n",
    "contact = [1, 2, 3, 4, 5]\n",
    "city = [1, 2, 3, 4, 5]"
   ]
  },
  {
   "cell_type": "code",
   "execution_count": null,
   "id": "31557494",
   "metadata": {},
   "outputs": [],
   "source": [
    "start = time.time()\n",
    "name, contact, city = get_info(b, final_list)\n",
    "print(\"소요 시간: \", time.time() - start)"
   ]
  },
  {
   "cell_type": "code",
   "execution_count": 42,
   "id": "04cc61db",
   "metadata": {},
   "outputs": [],
   "source": [
    "keyword = '여행\\n'\n",
    "print_csv(keyword[:-1]+tstmp, name, contact, city)"
   ]
  },
  {
   "cell_type": "code",
   "execution_count": 33,
   "id": "a429d705",
   "metadata": {},
   "outputs": [],
   "source": [
    "import datetime"
   ]
  },
  {
   "cell_type": "code",
   "execution_count": 41,
   "id": "43077b95",
   "metadata": {},
   "outputs": [],
   "source": [
    "timestamp = datetime.datetime.now()\n",
    "tstmp = timestamp.strftime(\"%Y-%m-%d_%H%M%S\")"
   ]
  },
  {
   "cell_type": "code",
   "execution_count": 158,
   "id": "8c66b2d2",
   "metadata": {},
   "outputs": [
    {
     "data": {
      "text/plain": [
       "300"
      ]
     },
     "execution_count": 158,
     "metadata": {},
     "output_type": "execute_result"
    }
   ],
   "source": [
    "len(name)\n",
    "len(contact)\n",
    "len(city)"
   ]
  },
  {
   "cell_type": "code",
   "execution_count": 157,
   "id": "9a77bf5a",
   "metadata": {
    "collapsed": true
   },
   "outputs": [
    {
     "ename": "ValueError",
     "evalue": "All arrays must be of the same length",
     "output_type": "error",
     "traceback": [
      "\u001b[1;31m---------------------------------------------------------------------------\u001b[0m",
      "\u001b[1;31mValueError\u001b[0m                                Traceback (most recent call last)",
      "Cell \u001b[1;32mIn[157], line 1\u001b[0m\n\u001b[1;32m----> 1\u001b[0m \u001b[43mprint_csv\u001b[49m\u001b[43m(\u001b[49m\u001b[38;5;124;43m'\u001b[39;49m\u001b[38;5;124;43mtest_first_group\u001b[39;49m\u001b[38;5;124;43m'\u001b[39;49m\u001b[43m,\u001b[49m\u001b[43m \u001b[49m\u001b[43mname\u001b[49m\u001b[43m,\u001b[49m\u001b[43m \u001b[49m\u001b[43mcontact\u001b[49m\u001b[43m,\u001b[49m\u001b[43m \u001b[49m\u001b[43mcity\u001b[49m\u001b[43m)\u001b[49m\n",
      "Cell \u001b[1;32mIn[96], line 2\u001b[0m, in \u001b[0;36mprint_csv\u001b[1;34m(f_name, name, contact, city)\u001b[0m\n\u001b[0;32m      1\u001b[0m \u001b[38;5;28;01mdef\u001b[39;00m \u001b[38;5;21mprint_csv\u001b[39m(f_name, name, contact, city):\n\u001b[1;32m----> 2\u001b[0m         df \u001b[38;5;241m=\u001b[39m \u001b[43mpd\u001b[49m\u001b[38;5;241;43m.\u001b[39;49m\u001b[43mDataFrame\u001b[49m\u001b[43m(\u001b[49m\u001b[43m{\u001b[49m\u001b[38;5;124;43m\"\u001b[39;49m\u001b[38;5;124;43m이름\u001b[39;49m\u001b[38;5;124;43m\"\u001b[39;49m\u001b[43m:\u001b[49m\u001b[43mname\u001b[49m\u001b[43m,\u001b[49m\n\u001b[0;32m      3\u001b[0m \u001b[43m                           \u001b[49m\u001b[38;5;124;43m\"\u001b[39;49m\u001b[38;5;124;43m연락처\u001b[39;49m\u001b[38;5;124;43m\"\u001b[39;49m\u001b[43m:\u001b[49m\u001b[43mcontact\u001b[49m\u001b[43m,\u001b[49m\n\u001b[0;32m      4\u001b[0m \u001b[43m                           \u001b[49m\u001b[38;5;124;43m\"\u001b[39;49m\u001b[38;5;124;43m지역\u001b[39;49m\u001b[38;5;124;43m\"\u001b[39;49m\u001b[43m:\u001b[49m\u001b[43mcity\u001b[49m\u001b[43m}\u001b[49m\u001b[43m)\u001b[49m\n\u001b[0;32m      5\u001b[0m         df\u001b[38;5;241m.\u001b[39mto_csv(\u001b[38;5;124mf\u001b[39m\u001b[38;5;124m\"\u001b[39m\u001b[38;5;132;01m{\u001b[39;00mf_name\u001b[38;5;132;01m}\u001b[39;00m\u001b[38;5;124m_utf-8.csv\u001b[39m\u001b[38;5;124m\"\u001b[39m, encoding\u001b[38;5;241m=\u001b[39m\u001b[38;5;124m'\u001b[39m\u001b[38;5;124mUTF-8\u001b[39m\u001b[38;5;124m'\u001b[39m)\n",
      "File \u001b[1;32m~\\AppData\\Local\\anaconda3\\lib\\site-packages\\pandas\\core\\frame.py:664\u001b[0m, in \u001b[0;36mDataFrame.__init__\u001b[1;34m(self, data, index, columns, dtype, copy)\u001b[0m\n\u001b[0;32m    658\u001b[0m     mgr \u001b[38;5;241m=\u001b[39m \u001b[38;5;28mself\u001b[39m\u001b[38;5;241m.\u001b[39m_init_mgr(\n\u001b[0;32m    659\u001b[0m         data, axes\u001b[38;5;241m=\u001b[39m{\u001b[38;5;124m\"\u001b[39m\u001b[38;5;124mindex\u001b[39m\u001b[38;5;124m\"\u001b[39m: index, \u001b[38;5;124m\"\u001b[39m\u001b[38;5;124mcolumns\u001b[39m\u001b[38;5;124m\"\u001b[39m: columns}, dtype\u001b[38;5;241m=\u001b[39mdtype, copy\u001b[38;5;241m=\u001b[39mcopy\n\u001b[0;32m    660\u001b[0m     )\n\u001b[0;32m    662\u001b[0m \u001b[38;5;28;01melif\u001b[39;00m \u001b[38;5;28misinstance\u001b[39m(data, \u001b[38;5;28mdict\u001b[39m):\n\u001b[0;32m    663\u001b[0m     \u001b[38;5;66;03m# GH#38939 de facto copy defaults to False only in non-dict cases\u001b[39;00m\n\u001b[1;32m--> 664\u001b[0m     mgr \u001b[38;5;241m=\u001b[39m \u001b[43mdict_to_mgr\u001b[49m\u001b[43m(\u001b[49m\u001b[43mdata\u001b[49m\u001b[43m,\u001b[49m\u001b[43m \u001b[49m\u001b[43mindex\u001b[49m\u001b[43m,\u001b[49m\u001b[43m \u001b[49m\u001b[43mcolumns\u001b[49m\u001b[43m,\u001b[49m\u001b[43m \u001b[49m\u001b[43mdtype\u001b[49m\u001b[38;5;241;43m=\u001b[39;49m\u001b[43mdtype\u001b[49m\u001b[43m,\u001b[49m\u001b[43m \u001b[49m\u001b[43mcopy\u001b[49m\u001b[38;5;241;43m=\u001b[39;49m\u001b[43mcopy\u001b[49m\u001b[43m,\u001b[49m\u001b[43m \u001b[49m\u001b[43mtyp\u001b[49m\u001b[38;5;241;43m=\u001b[39;49m\u001b[43mmanager\u001b[49m\u001b[43m)\u001b[49m\n\u001b[0;32m    665\u001b[0m \u001b[38;5;28;01melif\u001b[39;00m \u001b[38;5;28misinstance\u001b[39m(data, ma\u001b[38;5;241m.\u001b[39mMaskedArray):\n\u001b[0;32m    666\u001b[0m     \u001b[38;5;28;01mimport\u001b[39;00m \u001b[38;5;21;01mnumpy\u001b[39;00m\u001b[38;5;21;01m.\u001b[39;00m\u001b[38;5;21;01mma\u001b[39;00m\u001b[38;5;21;01m.\u001b[39;00m\u001b[38;5;21;01mmrecords\u001b[39;00m \u001b[38;5;28;01mas\u001b[39;00m \u001b[38;5;21;01mmrecords\u001b[39;00m\n",
      "File \u001b[1;32m~\\AppData\\Local\\anaconda3\\lib\\site-packages\\pandas\\core\\internals\\construction.py:493\u001b[0m, in \u001b[0;36mdict_to_mgr\u001b[1;34m(data, index, columns, dtype, typ, copy)\u001b[0m\n\u001b[0;32m    489\u001b[0m     \u001b[38;5;28;01melse\u001b[39;00m:\n\u001b[0;32m    490\u001b[0m         \u001b[38;5;66;03m# dtype check to exclude e.g. range objects, scalars\u001b[39;00m\n\u001b[0;32m    491\u001b[0m         arrays \u001b[38;5;241m=\u001b[39m [x\u001b[38;5;241m.\u001b[39mcopy() \u001b[38;5;28;01mif\u001b[39;00m \u001b[38;5;28mhasattr\u001b[39m(x, \u001b[38;5;124m\"\u001b[39m\u001b[38;5;124mdtype\u001b[39m\u001b[38;5;124m\"\u001b[39m) \u001b[38;5;28;01melse\u001b[39;00m x \u001b[38;5;28;01mfor\u001b[39;00m x \u001b[38;5;129;01min\u001b[39;00m arrays]\n\u001b[1;32m--> 493\u001b[0m \u001b[38;5;28;01mreturn\u001b[39;00m \u001b[43marrays_to_mgr\u001b[49m\u001b[43m(\u001b[49m\u001b[43marrays\u001b[49m\u001b[43m,\u001b[49m\u001b[43m \u001b[49m\u001b[43mcolumns\u001b[49m\u001b[43m,\u001b[49m\u001b[43m \u001b[49m\u001b[43mindex\u001b[49m\u001b[43m,\u001b[49m\u001b[43m \u001b[49m\u001b[43mdtype\u001b[49m\u001b[38;5;241;43m=\u001b[39;49m\u001b[43mdtype\u001b[49m\u001b[43m,\u001b[49m\u001b[43m \u001b[49m\u001b[43mtyp\u001b[49m\u001b[38;5;241;43m=\u001b[39;49m\u001b[43mtyp\u001b[49m\u001b[43m,\u001b[49m\u001b[43m \u001b[49m\u001b[43mconsolidate\u001b[49m\u001b[38;5;241;43m=\u001b[39;49m\u001b[43mcopy\u001b[49m\u001b[43m)\u001b[49m\n",
      "File \u001b[1;32m~\\AppData\\Local\\anaconda3\\lib\\site-packages\\pandas\\core\\internals\\construction.py:118\u001b[0m, in \u001b[0;36marrays_to_mgr\u001b[1;34m(arrays, columns, index, dtype, verify_integrity, typ, consolidate)\u001b[0m\n\u001b[0;32m    115\u001b[0m \u001b[38;5;28;01mif\u001b[39;00m verify_integrity:\n\u001b[0;32m    116\u001b[0m     \u001b[38;5;66;03m# figure out the index, if necessary\u001b[39;00m\n\u001b[0;32m    117\u001b[0m     \u001b[38;5;28;01mif\u001b[39;00m index \u001b[38;5;129;01mis\u001b[39;00m \u001b[38;5;28;01mNone\u001b[39;00m:\n\u001b[1;32m--> 118\u001b[0m         index \u001b[38;5;241m=\u001b[39m \u001b[43m_extract_index\u001b[49m\u001b[43m(\u001b[49m\u001b[43marrays\u001b[49m\u001b[43m)\u001b[49m\n\u001b[0;32m    119\u001b[0m     \u001b[38;5;28;01melse\u001b[39;00m:\n\u001b[0;32m    120\u001b[0m         index \u001b[38;5;241m=\u001b[39m ensure_index(index)\n",
      "File \u001b[1;32m~\\AppData\\Local\\anaconda3\\lib\\site-packages\\pandas\\core\\internals\\construction.py:666\u001b[0m, in \u001b[0;36m_extract_index\u001b[1;34m(data)\u001b[0m\n\u001b[0;32m    664\u001b[0m lengths \u001b[38;5;241m=\u001b[39m \u001b[38;5;28mlist\u001b[39m(\u001b[38;5;28mset\u001b[39m(raw_lengths))\n\u001b[0;32m    665\u001b[0m \u001b[38;5;28;01mif\u001b[39;00m \u001b[38;5;28mlen\u001b[39m(lengths) \u001b[38;5;241m>\u001b[39m \u001b[38;5;241m1\u001b[39m:\n\u001b[1;32m--> 666\u001b[0m     \u001b[38;5;28;01mraise\u001b[39;00m \u001b[38;5;167;01mValueError\u001b[39;00m(\u001b[38;5;124m\"\u001b[39m\u001b[38;5;124mAll arrays must be of the same length\u001b[39m\u001b[38;5;124m\"\u001b[39m)\n\u001b[0;32m    668\u001b[0m \u001b[38;5;28;01mif\u001b[39;00m have_dicts:\n\u001b[0;32m    669\u001b[0m     \u001b[38;5;28;01mraise\u001b[39;00m \u001b[38;5;167;01mValueError\u001b[39;00m(\n\u001b[0;32m    670\u001b[0m         \u001b[38;5;124m\"\u001b[39m\u001b[38;5;124mMixing dicts with non-Series may lead to ambiguous ordering.\u001b[39m\u001b[38;5;124m\"\u001b[39m\n\u001b[0;32m    671\u001b[0m     )\n",
      "\u001b[1;31mValueError\u001b[0m: All arrays must be of the same length"
     ]
    }
   ],
   "source": [
    "print_csv('test_first_group', name, contact, city)"
   ]
  },
  {
   "cell_type": "code",
   "execution_count": 2,
   "id": "09fd5a1e",
   "metadata": {},
   "outputs": [],
   "source": [
    "from webdriver_manager.chrome import ChromeDriverManager\n",
    "\n",
    "from selenium import webdriver\n",
    "from selenium.webdriver.common.keys import Keys\n",
    "from selenium.webdriver.chrome.service import Service\n",
    "\n",
    "from bs4 import BeautifulSoup as bs\n",
    "import requests\n",
    "import pandas as pd\n",
    "\n",
    "import pyperclip\n",
    "import time\n",
    "import datetime"
   ]
  },
  {
   "cell_type": "code",
   "execution_count": 3,
   "id": "2834042d",
   "metadata": {},
   "outputs": [],
   "source": [
    "def selenium_driver():\n",
    "    options = webdriver.ChromeOptions()\n",
    "    options.add_argument(\"--proxy-server=socks5://127.0.0.1:9150\")\n",
    "    options.add_argument('window-size=1920x1080')\n",
    "    options.add_argument('disable-gpu')\n",
    "    options.add_experimental_option('excludeSwitches', ['enable-logging'])\n",
    "    options.add_argument('--no-sandbox')\n",
    "    options.add_argument('no-sandox')\n",
    "    options.add_argument('--disable-dev-shm-usage')\n",
    "    options.add_argument('--start-maximized')\n",
    "    options.add_argument('incognito')\n",
    "    \n",
    "    service = Service(ChromeDriverManager().install())\n",
    "    browser = webdriver.Chrome(service=service, options=options)\n",
    "    \n",
    "    return browser"
   ]
  },
  {
   "cell_type": "code",
   "execution_count": 18,
   "id": "6e5deb00",
   "metadata": {},
   "outputs": [],
   "source": [
    "def login(browser):\n",
    "    #open browser\n",
    "    browser.get(\"https://www.facebook.com/\")\n",
    "    time.sleep(2)\n",
    "\n",
    "    #log info, search keyword\n",
    "    USER = \"shm8485@gmail.com\"\n",
    "    PWD = \"sohee8485\"\n",
    "\n",
    "    #login\n",
    "    elem_id = browser.find_element(\"id\", \"email\")\n",
    "    pyperclip.copy(USER)\n",
    "    elem_id.send_keys(Keys.CONTROL, \"v\")\n",
    "    time.sleep(2)\n",
    "\n",
    "    elem_pw = browser.find_element(\"id\", \"pass\")\n",
    "    pyperclip.copy(PWD)\n",
    "    elem_pw.send_keys(Keys.CONTROL, \"v\")\n",
    "    elem_pw.send_keys(\"\\n\")\n",
    "    time.sleep(3)"
   ]
  },
  {
   "cell_type": "code",
   "execution_count": 8,
   "id": "76e142d5",
   "metadata": {},
   "outputs": [],
   "source": [
    "def search(browser, keyword, city = None):\n",
    "    keyword = keyword + '\\n'\n",
    "    browser.get(f\"https://www.facebook.com/search/groups/?q={keyword}\")\n",
    "    time.sleep(2)\n",
    "\n",
    "    try:\n",
    "        elem_block = browser.find_element(\"xpath\", \"/html/body/div[3]/div[1]/div/div[2]/div/div/div/div/div/div/div[1]/div/div[2]/div\")\n",
    "        elem_block.click()\n",
    "    except:\n",
    "        pass\n",
    "    try:\n",
    "        elem_block = browser.find_element('xpath', '/html/body/div[5]/div[1]/div/div[2]/div/div/div/div/div/div/div[1]/div/div[2]/div')\n",
    "        elem_block.click()\n",
    "    except:\n",
    "        pass\n",
    "    time.sleep(1)\n",
    "    \n",
    "    #show only public groups\n",
    "    elem_public = browser.find_element('xpath', '/html/body/div[1]/div/div[1]/div/div[3]/div/div/div/div[1]/div[1]/div[1]/div/div[2]/div[1]/div[2]/div/div/div[2]/div/div[9]/div[2]/div[2]/div/div[2]/div/input')\n",
    "    elem_public.click()"
   ]
  },
  {
   "cell_type": "code",
   "execution_count": 4,
   "id": "731113e5",
   "metadata": {},
   "outputs": [],
   "source": [
    "def top_to_bottom(browser):\n",
    "    last_height = browser.execute_script(\"return document.body.scrollHeight\")\n",
    "    while True:\n",
    "        browser.execute_script(\"window.scrollTo(0, document.body.scrollHeight);\")\n",
    "\n",
    "        time.sleep(1.5)\n",
    "\n",
    "        new_height = browser.execute_script(\"return document.body.scrollHeight\")\n",
    "        if new_height == last_height:\n",
    "            break\n",
    "        last_height = new_height  "
   ]
  },
  {
   "cell_type": "code",
   "execution_count": 9,
   "id": "5f3a0542",
   "metadata": {},
   "outputs": [],
   "source": [
    "def get_links_groups(browser):\n",
    "    soup_groups = bs(browser.page_source, \"html.parser\")\n",
    "    top_elements = soup_groups.find_all(class_=\"x1yztbdb\")\n",
    "    groups_href = []\n",
    "\n",
    "    for i in top_elements:\n",
    "        groups_href.append(i.find(\"a\").attrs['href'])\n",
    "    \n",
    "    final_href = []\n",
    "    for i in groups_href:\n",
    "        final_href.append(i[:len(i)-11]+'members')\n",
    "    \n",
    "    return final_href"
   ]
  },
  {
   "cell_type": "code",
   "execution_count": 11,
   "id": "e8282518",
   "metadata": {},
   "outputs": [],
   "source": [
    "def get_links_profile(browser):\n",
    "    soup_profile = bs(browser.page_source, \"html.parser\")\n",
    "    top_elements = soup_profile.find_all(class_=\"x1lq5wgf xgqcy7u x30kzoy x9jhf4c x1lliihq\")\n",
    "    final_href = []\n",
    "    final_list = []\n",
    "\n",
    "    for i in top_elements:\n",
    "        final_href.append(i.find(\"a\").attrs['href'])\n",
    "\n",
    "    for i in final_href:\n",
    "        final_list.append('https://www.facebook.com/profile.php?id='+i[29:len(i)-1]+'&sk=')\n",
    "\n",
    "    return final_list"
   ]
  },
  {
   "cell_type": "code",
   "execution_count": 12,
   "id": "a7e54aa4",
   "metadata": {},
   "outputs": [],
   "source": [
    "def get_info(browser, final_list):\n",
    "    name, contact, city = [], [], []\n",
    "    for i in final_list:\n",
    "        try:\n",
    "            browser.get(i+\"about_contact_and_basic_info\")\n",
    "            soup_info = bs(browser.page_source, \"html.parser\")\n",
    "            soup_name = soup_info.find(class_=\"x78zum5 x15sbx0n x5oxk1f x1jxijyj xym1h4x xuy2c7u x1ltux0g xc9uqle\")\n",
    "            name.append(soup_name.find(\"h1\").text)\n",
    "            soup_info_contact = soup_info.find(class_=\"xyamay9 xqmdsaz x1gan7if x1swvt13\")\n",
    "            contact.append(soup_info_contact.text)\n",
    "            browser.get(i+\"about_places\")\n",
    "            soup_info = bs(browser.page_source, \"html.parser\")\n",
    "            soup_info_ct = soup_info.find(class_=\"xyamay9 xqmdsaz x1gan7if x1swvt13\")\n",
    "            city.append(soup_info_ct.text)\n",
    "        except:\n",
    "            l_name = len(name)\n",
    "            l_cont = len(contact)\n",
    "            l_city = len(city)\n",
    "            if l_name > l_cont:\n",
    "                contact.append('empty')\n",
    "                try:\n",
    "                    browser.get(i+\"about_places\")\n",
    "                    time.sleep(1)\n",
    "                    soup_info = bs(browser.page_source, \"html.parser\")\n",
    "                    soup_info_ct = soup_info.find(class_=\"xyamay9 xqmdsaz x1gan7if x1swvt13\")\n",
    "                    city.append(soup_info_ct.text)\n",
    "                except:\n",
    "                    city.append('')\n",
    "            else:\n",
    "                city.append('')\n",
    "\n",
    "    return name, contact, city"
   ]
  },
  {
   "cell_type": "code",
   "execution_count": 95,
   "id": "0313c1ad",
   "metadata": {
    "collapsed": true
   },
   "outputs": [
    {
     "ename": "NameError",
     "evalue": "name 'print_csv' is not defined",
     "output_type": "error",
     "traceback": [
      "\u001b[1;31m---------------------------------------------------------------------------\u001b[0m",
      "\u001b[1;31mNameError\u001b[0m                                 Traceback (most recent call last)",
      "Cell \u001b[1;32mIn[95], line 35\u001b[0m\n\u001b[0;32m     32\u001b[0m         \u001b[38;5;28;01melse\u001b[39;00m:\n\u001b[0;32m     33\u001b[0m             city\u001b[38;5;241m.\u001b[39mappend(\u001b[38;5;124m'\u001b[39m\u001b[38;5;124m'\u001b[39m)\n\u001b[1;32m---> 35\u001b[0m \u001b[43mprint_csv\u001b[49m(\u001b[38;5;124m'\u001b[39m\u001b[38;5;124mgroup_test\u001b[39m\u001b[38;5;124m'\u001b[39m, name, contact, city)\n",
      "\u001b[1;31mNameError\u001b[0m: name 'print_csv' is not defined"
     ]
    }
   ],
   "source": [
    "def crawling(f_name, keyword, city):\n",
    "    # open browser\n",
    "    browser = selenium_driver()\n",
    "    # Facebook login\n",
    "    login(browser)\n",
    "    # search keyword\n",
    "    search(browser, '여행')\n",
    "    # scroll to bottom\n",
    "    top_to_bottom(browser)\n",
    "    # scrap groups' link\n",
    "    group_link= get_links_groups(browser)\n",
    "    \n",
    "    # full data\n",
    "    profiles_link, f_name = [], []\n",
    "    name, contact, city = [], [], []\n",
    "    \n",
    "    # check each groups' link\n",
    "    for i in group_link:\n",
    "        # move to group member page\n",
    "        browser.get(i)\n",
    "        # scroll to bottom\n",
    "        top_to_bottom(browser)\n",
    "        # scrap profiles' link\n",
    "        temp_profile_link = get_links_profile(browser)\n",
    "        # get info from each profiles\n",
    "        t_name, t_contact, t_city = get_info(browser, temp_profile_link)\n",
    "        # append to data\n",
    "        profiles_link.append(temp_profile_link)\n",
    "        name.append(t_name)\n",
    "        contact.append(t_contact)\n",
    "        city.append(t_city)\n",
    "        # get real time\n",
    "        timestamp = datetime.datetime.now()\n",
    "        t_stamp = timestamp.strftime(\"%Y-%m-%d_%H%M%S\")\n",
    "        t_filename = keyword[:-1]+'_'+t_stamp\n",
    "        #  make csv file with timestamp\n",
    "        print_csv(t_filename, name, contact, city)\n",
    "        f_name.append(t_filename)\n",
    "    \n",
    "    timestamp = datetime.datetime.now()\n",
    "    t_stamp = timestamp.strftime(\"%Y-%m-%d_%H%M%S\")\n",
    "    t_filename = 'full_'+keyword[:-1]+'_'+t_stamp\n",
    "    f_name.append(t_filename)\n",
    "    print_csv(t_filename, name, contact, city)\n",
    "\n",
    "    return profiiles_link, name, contact, city, f_name"
   ]
  },
  {
   "cell_type": "code",
   "execution_count": 43,
   "id": "fcdf91f7",
   "metadata": {},
   "outputs": [],
   "source": [
    "def print_csv(f_name, name, contact, city):\n",
    "        df = pd.DataFrame({\"이름\":name,\n",
    "                           \"연락처\":contact,\n",
    "                           \"지역\":city})\n",
    "        df.to_csv(f\"{f_name}_utf-8.csv\", encoding='UTF-8')\n",
    "#         df.to_csv(f\"{f_name}_cp949.csv\", encoding='CP949')"
   ]
  },
  {
   "cell_type": "code",
   "execution_count": 44,
   "id": "e5bb0f1f",
   "metadata": {},
   "outputs": [],
   "source": [
    "def check_who_has_numb(f_name):\n",
    "    #번호를 가진 유저 수 확인\n",
    "    df = pd.read_csv(f'{f_name}.csv', sep=',')\n",
    "    df2 = df[df['연락처'].str.contains(\"\\+82\" , na=False)]\n",
    "    print(df2)"
   ]
  },
  {
   "cell_type": "code",
   "execution_count": 172,
   "id": "ac2cbf0e",
   "metadata": {},
   "outputs": [],
   "source": [
    "def main(f_name, keyword, city=None):\n",
    "    start = time.time()\n",
    "    #crawling(file_name, keyword, city)\n",
    "    links, name, contact, city, f_name = crawling(f_name, keyword, city)\n",
    "    print(\"소요 시간: \", time.time() - start)\n",
    "    \n",
    "    \n",
    "    return links"
   ]
  },
  {
   "cell_type": "code",
   "execution_count": 173,
   "id": "ab4a493c",
   "metadata": {
    "collapsed": true
   },
   "outputs": [
    {
     "ename": "UnicodeEncodeError",
     "evalue": "'cp949' codec can't encode character '\\u1ec5' in position 7: illegal multibyte sequence",
     "output_type": "error",
     "traceback": [
      "\u001b[1;31m---------------------------------------------------------------------------\u001b[0m",
      "\u001b[1;31mUnicodeEncodeError\u001b[0m                        Traceback (most recent call last)",
      "Cell \u001b[1;32mIn[173], line 2\u001b[0m\n\u001b[0;32m      1\u001b[0m \u001b[38;5;28;01mif\u001b[39;00m \u001b[38;5;18m__name__\u001b[39m \u001b[38;5;241m==\u001b[39m \u001b[38;5;124m\"\u001b[39m\u001b[38;5;124m__main__\u001b[39m\u001b[38;5;124m\"\u001b[39m:\n\u001b[1;32m----> 2\u001b[0m     links \u001b[38;5;241m=\u001b[39m \u001b[43mmain\u001b[49m\u001b[43m(\u001b[49m\u001b[38;5;124;43m'\u001b[39;49m\u001b[38;5;124;43mtest_realst\u001b[39;49m\u001b[38;5;124;43m'\u001b[39;49m\u001b[43m,\u001b[49m\u001b[38;5;124;43m'\u001b[39;49m\u001b[38;5;124;43m부동산\u001b[39;49m\u001b[38;5;124;43m'\u001b[39;49m\u001b[43m)\u001b[49m\n",
      "Cell \u001b[1;32mIn[172], line 4\u001b[0m, in \u001b[0;36mmain\u001b[1;34m(f_name, keyword, city)\u001b[0m\n\u001b[0;32m      2\u001b[0m start \u001b[38;5;241m=\u001b[39m time\u001b[38;5;241m.\u001b[39mtime()\n\u001b[0;32m      3\u001b[0m \u001b[38;5;66;03m#crawling(file_name, keyword, city)\u001b[39;00m\n\u001b[1;32m----> 4\u001b[0m links \u001b[38;5;241m=\u001b[39m \u001b[43mcrawling\u001b[49m\u001b[43m(\u001b[49m\u001b[43mf_name\u001b[49m\u001b[43m,\u001b[49m\u001b[43m \u001b[49m\u001b[43mkeyword\u001b[49m\u001b[43m,\u001b[49m\u001b[43m \u001b[49m\u001b[43mcity\u001b[49m\u001b[43m)\u001b[49m\n\u001b[0;32m      5\u001b[0m \u001b[38;5;28mprint\u001b[39m(\u001b[38;5;124m\"\u001b[39m\u001b[38;5;124m소요 시간: \u001b[39m\u001b[38;5;124m\"\u001b[39m, time\u001b[38;5;241m.\u001b[39mtime() \u001b[38;5;241m-\u001b[39m start)\n\u001b[0;32m      6\u001b[0m \u001b[38;5;28;01mreturn\u001b[39;00m links\n",
      "Cell \u001b[1;32mIn[171], line 44\u001b[0m, in \u001b[0;36mcrawling\u001b[1;34m(f_name, keyword, city)\u001b[0m\n\u001b[0;32m     41\u001b[0m         \u001b[38;5;28;01melse\u001b[39;00m:\n\u001b[0;32m     42\u001b[0m             city\u001b[38;5;241m.\u001b[39mappend(\u001b[38;5;124m'\u001b[39m\u001b[38;5;124m'\u001b[39m)\n\u001b[1;32m---> 44\u001b[0m \u001b[43mprint_csv\u001b[49m\u001b[43m(\u001b[49m\u001b[43mf_name\u001b[49m\u001b[43m,\u001b[49m\u001b[43m \u001b[49m\u001b[43mname\u001b[49m\u001b[43m,\u001b[49m\u001b[43m \u001b[49m\u001b[43mcontact\u001b[49m\u001b[43m,\u001b[49m\u001b[43m \u001b[49m\u001b[43mcity\u001b[49m\u001b[43m)\u001b[49m\n\u001b[0;32m     46\u001b[0m \u001b[38;5;28;01mreturn\u001b[39;00m final_list\n",
      "Cell \u001b[1;32mIn[170], line 6\u001b[0m, in \u001b[0;36mprint_csv\u001b[1;34m(f_name, name, contact, city)\u001b[0m\n\u001b[0;32m      2\u001b[0m df \u001b[38;5;241m=\u001b[39m pd\u001b[38;5;241m.\u001b[39mDataFrame({\u001b[38;5;124m\"\u001b[39m\u001b[38;5;124m이름\u001b[39m\u001b[38;5;124m\"\u001b[39m:name,\n\u001b[0;32m      3\u001b[0m                    \u001b[38;5;124m\"\u001b[39m\u001b[38;5;124m연락처\u001b[39m\u001b[38;5;124m\"\u001b[39m:contact,\n\u001b[0;32m      4\u001b[0m                    \u001b[38;5;124m\"\u001b[39m\u001b[38;5;124m지역\u001b[39m\u001b[38;5;124m\"\u001b[39m:city})\n\u001b[0;32m      5\u001b[0m df\u001b[38;5;241m.\u001b[39mto_csv(\u001b[38;5;124mf\u001b[39m\u001b[38;5;124m\"\u001b[39m\u001b[38;5;132;01m{\u001b[39;00mf_name\u001b[38;5;132;01m}\u001b[39;00m\u001b[38;5;124m_utf-8.csv\u001b[39m\u001b[38;5;124m\"\u001b[39m, encoding\u001b[38;5;241m=\u001b[39m\u001b[38;5;124m'\u001b[39m\u001b[38;5;124mUTF-8\u001b[39m\u001b[38;5;124m'\u001b[39m)\n\u001b[1;32m----> 6\u001b[0m \u001b[43mdf\u001b[49m\u001b[38;5;241;43m.\u001b[39;49m\u001b[43mto_csv\u001b[49m\u001b[43m(\u001b[49m\u001b[38;5;124;43mf\u001b[39;49m\u001b[38;5;124;43m\"\u001b[39;49m\u001b[38;5;132;43;01m{\u001b[39;49;00m\u001b[43mf_name\u001b[49m\u001b[38;5;132;43;01m}\u001b[39;49;00m\u001b[38;5;124;43m_cp949.csv\u001b[39;49m\u001b[38;5;124;43m\"\u001b[39;49m\u001b[43m,\u001b[49m\u001b[43m \u001b[49m\u001b[43mencoding\u001b[49m\u001b[38;5;241;43m=\u001b[39;49m\u001b[38;5;124;43m'\u001b[39;49m\u001b[38;5;124;43mCP949\u001b[39;49m\u001b[38;5;124;43m'\u001b[39;49m\u001b[43m)\u001b[49m\n",
      "File \u001b[1;32m~\\AppData\\Local\\anaconda3\\lib\\site-packages\\pandas\\util\\_decorators.py:211\u001b[0m, in \u001b[0;36mdeprecate_kwarg.<locals>._deprecate_kwarg.<locals>.wrapper\u001b[1;34m(*args, **kwargs)\u001b[0m\n\u001b[0;32m    209\u001b[0m     \u001b[38;5;28;01melse\u001b[39;00m:\n\u001b[0;32m    210\u001b[0m         kwargs[new_arg_name] \u001b[38;5;241m=\u001b[39m new_arg_value\n\u001b[1;32m--> 211\u001b[0m \u001b[38;5;28;01mreturn\u001b[39;00m func(\u001b[38;5;241m*\u001b[39margs, \u001b[38;5;241m*\u001b[39m\u001b[38;5;241m*\u001b[39mkwargs)\n",
      "File \u001b[1;32m~\\AppData\\Local\\anaconda3\\lib\\site-packages\\pandas\\core\\generic.py:3720\u001b[0m, in \u001b[0;36mNDFrame.to_csv\u001b[1;34m(self, path_or_buf, sep, na_rep, float_format, columns, header, index, index_label, mode, encoding, compression, quoting, quotechar, lineterminator, chunksize, date_format, doublequote, escapechar, decimal, errors, storage_options)\u001b[0m\n\u001b[0;32m   3709\u001b[0m df \u001b[38;5;241m=\u001b[39m \u001b[38;5;28mself\u001b[39m \u001b[38;5;28;01mif\u001b[39;00m \u001b[38;5;28misinstance\u001b[39m(\u001b[38;5;28mself\u001b[39m, ABCDataFrame) \u001b[38;5;28;01melse\u001b[39;00m \u001b[38;5;28mself\u001b[39m\u001b[38;5;241m.\u001b[39mto_frame()\n\u001b[0;32m   3711\u001b[0m formatter \u001b[38;5;241m=\u001b[39m DataFrameFormatter(\n\u001b[0;32m   3712\u001b[0m     frame\u001b[38;5;241m=\u001b[39mdf,\n\u001b[0;32m   3713\u001b[0m     header\u001b[38;5;241m=\u001b[39mheader,\n\u001b[1;32m   (...)\u001b[0m\n\u001b[0;32m   3717\u001b[0m     decimal\u001b[38;5;241m=\u001b[39mdecimal,\n\u001b[0;32m   3718\u001b[0m )\n\u001b[1;32m-> 3720\u001b[0m \u001b[38;5;28;01mreturn\u001b[39;00m \u001b[43mDataFrameRenderer\u001b[49m\u001b[43m(\u001b[49m\u001b[43mformatter\u001b[49m\u001b[43m)\u001b[49m\u001b[38;5;241;43m.\u001b[39;49m\u001b[43mto_csv\u001b[49m\u001b[43m(\u001b[49m\n\u001b[0;32m   3721\u001b[0m \u001b[43m    \u001b[49m\u001b[43mpath_or_buf\u001b[49m\u001b[43m,\u001b[49m\n\u001b[0;32m   3722\u001b[0m \u001b[43m    \u001b[49m\u001b[43mlineterminator\u001b[49m\u001b[38;5;241;43m=\u001b[39;49m\u001b[43mlineterminator\u001b[49m\u001b[43m,\u001b[49m\n\u001b[0;32m   3723\u001b[0m \u001b[43m    \u001b[49m\u001b[43msep\u001b[49m\u001b[38;5;241;43m=\u001b[39;49m\u001b[43msep\u001b[49m\u001b[43m,\u001b[49m\n\u001b[0;32m   3724\u001b[0m \u001b[43m    \u001b[49m\u001b[43mencoding\u001b[49m\u001b[38;5;241;43m=\u001b[39;49m\u001b[43mencoding\u001b[49m\u001b[43m,\u001b[49m\n\u001b[0;32m   3725\u001b[0m \u001b[43m    \u001b[49m\u001b[43merrors\u001b[49m\u001b[38;5;241;43m=\u001b[39;49m\u001b[43merrors\u001b[49m\u001b[43m,\u001b[49m\n\u001b[0;32m   3726\u001b[0m \u001b[43m    \u001b[49m\u001b[43mcompression\u001b[49m\u001b[38;5;241;43m=\u001b[39;49m\u001b[43mcompression\u001b[49m\u001b[43m,\u001b[49m\n\u001b[0;32m   3727\u001b[0m \u001b[43m    \u001b[49m\u001b[43mquoting\u001b[49m\u001b[38;5;241;43m=\u001b[39;49m\u001b[43mquoting\u001b[49m\u001b[43m,\u001b[49m\n\u001b[0;32m   3728\u001b[0m \u001b[43m    \u001b[49m\u001b[43mcolumns\u001b[49m\u001b[38;5;241;43m=\u001b[39;49m\u001b[43mcolumns\u001b[49m\u001b[43m,\u001b[49m\n\u001b[0;32m   3729\u001b[0m \u001b[43m    \u001b[49m\u001b[43mindex_label\u001b[49m\u001b[38;5;241;43m=\u001b[39;49m\u001b[43mindex_label\u001b[49m\u001b[43m,\u001b[49m\n\u001b[0;32m   3730\u001b[0m \u001b[43m    \u001b[49m\u001b[43mmode\u001b[49m\u001b[38;5;241;43m=\u001b[39;49m\u001b[43mmode\u001b[49m\u001b[43m,\u001b[49m\n\u001b[0;32m   3731\u001b[0m \u001b[43m    \u001b[49m\u001b[43mchunksize\u001b[49m\u001b[38;5;241;43m=\u001b[39;49m\u001b[43mchunksize\u001b[49m\u001b[43m,\u001b[49m\n\u001b[0;32m   3732\u001b[0m \u001b[43m    \u001b[49m\u001b[43mquotechar\u001b[49m\u001b[38;5;241;43m=\u001b[39;49m\u001b[43mquotechar\u001b[49m\u001b[43m,\u001b[49m\n\u001b[0;32m   3733\u001b[0m \u001b[43m    \u001b[49m\u001b[43mdate_format\u001b[49m\u001b[38;5;241;43m=\u001b[39;49m\u001b[43mdate_format\u001b[49m\u001b[43m,\u001b[49m\n\u001b[0;32m   3734\u001b[0m \u001b[43m    \u001b[49m\u001b[43mdoublequote\u001b[49m\u001b[38;5;241;43m=\u001b[39;49m\u001b[43mdoublequote\u001b[49m\u001b[43m,\u001b[49m\n\u001b[0;32m   3735\u001b[0m \u001b[43m    \u001b[49m\u001b[43mescapechar\u001b[49m\u001b[38;5;241;43m=\u001b[39;49m\u001b[43mescapechar\u001b[49m\u001b[43m,\u001b[49m\n\u001b[0;32m   3736\u001b[0m \u001b[43m    \u001b[49m\u001b[43mstorage_options\u001b[49m\u001b[38;5;241;43m=\u001b[39;49m\u001b[43mstorage_options\u001b[49m\u001b[43m,\u001b[49m\n\u001b[0;32m   3737\u001b[0m \u001b[43m\u001b[49m\u001b[43m)\u001b[49m\n",
      "File \u001b[1;32m~\\AppData\\Local\\anaconda3\\lib\\site-packages\\pandas\\util\\_decorators.py:211\u001b[0m, in \u001b[0;36mdeprecate_kwarg.<locals>._deprecate_kwarg.<locals>.wrapper\u001b[1;34m(*args, **kwargs)\u001b[0m\n\u001b[0;32m    209\u001b[0m     \u001b[38;5;28;01melse\u001b[39;00m:\n\u001b[0;32m    210\u001b[0m         kwargs[new_arg_name] \u001b[38;5;241m=\u001b[39m new_arg_value\n\u001b[1;32m--> 211\u001b[0m \u001b[38;5;28;01mreturn\u001b[39;00m func(\u001b[38;5;241m*\u001b[39margs, \u001b[38;5;241m*\u001b[39m\u001b[38;5;241m*\u001b[39mkwargs)\n",
      "File \u001b[1;32m~\\AppData\\Local\\anaconda3\\lib\\site-packages\\pandas\\io\\formats\\format.py:1189\u001b[0m, in \u001b[0;36mDataFrameRenderer.to_csv\u001b[1;34m(self, path_or_buf, encoding, sep, columns, index_label, mode, compression, quoting, quotechar, lineterminator, chunksize, date_format, doublequote, escapechar, errors, storage_options)\u001b[0m\n\u001b[0;32m   1168\u001b[0m     created_buffer \u001b[38;5;241m=\u001b[39m \u001b[38;5;28;01mFalse\u001b[39;00m\n\u001b[0;32m   1170\u001b[0m csv_formatter \u001b[38;5;241m=\u001b[39m CSVFormatter(\n\u001b[0;32m   1171\u001b[0m     path_or_buf\u001b[38;5;241m=\u001b[39mpath_or_buf,\n\u001b[0;32m   1172\u001b[0m     lineterminator\u001b[38;5;241m=\u001b[39mlineterminator,\n\u001b[1;32m   (...)\u001b[0m\n\u001b[0;32m   1187\u001b[0m     formatter\u001b[38;5;241m=\u001b[39m\u001b[38;5;28mself\u001b[39m\u001b[38;5;241m.\u001b[39mfmt,\n\u001b[0;32m   1188\u001b[0m )\n\u001b[1;32m-> 1189\u001b[0m \u001b[43mcsv_formatter\u001b[49m\u001b[38;5;241;43m.\u001b[39;49m\u001b[43msave\u001b[49m\u001b[43m(\u001b[49m\u001b[43m)\u001b[49m\n\u001b[0;32m   1191\u001b[0m \u001b[38;5;28;01mif\u001b[39;00m created_buffer:\n\u001b[0;32m   1192\u001b[0m     \u001b[38;5;28;01massert\u001b[39;00m \u001b[38;5;28misinstance\u001b[39m(path_or_buf, StringIO)\n",
      "File \u001b[1;32m~\\AppData\\Local\\anaconda3\\lib\\site-packages\\pandas\\io\\formats\\csvs.py:261\u001b[0m, in \u001b[0;36mCSVFormatter.save\u001b[1;34m(self)\u001b[0m\n\u001b[0;32m    241\u001b[0m \u001b[38;5;28;01mwith\u001b[39;00m get_handle(\n\u001b[0;32m    242\u001b[0m     \u001b[38;5;28mself\u001b[39m\u001b[38;5;241m.\u001b[39mfilepath_or_buffer,\n\u001b[0;32m    243\u001b[0m     \u001b[38;5;28mself\u001b[39m\u001b[38;5;241m.\u001b[39mmode,\n\u001b[1;32m   (...)\u001b[0m\n\u001b[0;32m    249\u001b[0m \n\u001b[0;32m    250\u001b[0m     \u001b[38;5;66;03m# Note: self.encoding is irrelevant here\u001b[39;00m\n\u001b[0;32m    251\u001b[0m     \u001b[38;5;28mself\u001b[39m\u001b[38;5;241m.\u001b[39mwriter \u001b[38;5;241m=\u001b[39m csvlib\u001b[38;5;241m.\u001b[39mwriter(\n\u001b[0;32m    252\u001b[0m         handles\u001b[38;5;241m.\u001b[39mhandle,\n\u001b[0;32m    253\u001b[0m         lineterminator\u001b[38;5;241m=\u001b[39m\u001b[38;5;28mself\u001b[39m\u001b[38;5;241m.\u001b[39mlineterminator,\n\u001b[1;32m   (...)\u001b[0m\n\u001b[0;32m    258\u001b[0m         quotechar\u001b[38;5;241m=\u001b[39m\u001b[38;5;28mself\u001b[39m\u001b[38;5;241m.\u001b[39mquotechar,\n\u001b[0;32m    259\u001b[0m     )\n\u001b[1;32m--> 261\u001b[0m     \u001b[38;5;28;43mself\u001b[39;49m\u001b[38;5;241;43m.\u001b[39;49m\u001b[43m_save\u001b[49m\u001b[43m(\u001b[49m\u001b[43m)\u001b[49m\n",
      "File \u001b[1;32m~\\AppData\\Local\\anaconda3\\lib\\site-packages\\pandas\\io\\formats\\csvs.py:266\u001b[0m, in \u001b[0;36mCSVFormatter._save\u001b[1;34m(self)\u001b[0m\n\u001b[0;32m    264\u001b[0m \u001b[38;5;28;01mif\u001b[39;00m \u001b[38;5;28mself\u001b[39m\u001b[38;5;241m.\u001b[39m_need_to_save_header:\n\u001b[0;32m    265\u001b[0m     \u001b[38;5;28mself\u001b[39m\u001b[38;5;241m.\u001b[39m_save_header()\n\u001b[1;32m--> 266\u001b[0m \u001b[38;5;28;43mself\u001b[39;49m\u001b[38;5;241;43m.\u001b[39;49m\u001b[43m_save_body\u001b[49m\u001b[43m(\u001b[49m\u001b[43m)\u001b[49m\n",
      "File \u001b[1;32m~\\AppData\\Local\\anaconda3\\lib\\site-packages\\pandas\\io\\formats\\csvs.py:304\u001b[0m, in \u001b[0;36mCSVFormatter._save_body\u001b[1;34m(self)\u001b[0m\n\u001b[0;32m    302\u001b[0m \u001b[38;5;28;01mif\u001b[39;00m start_i \u001b[38;5;241m>\u001b[39m\u001b[38;5;241m=\u001b[39m end_i:\n\u001b[0;32m    303\u001b[0m     \u001b[38;5;28;01mbreak\u001b[39;00m\n\u001b[1;32m--> 304\u001b[0m \u001b[38;5;28;43mself\u001b[39;49m\u001b[38;5;241;43m.\u001b[39;49m\u001b[43m_save_chunk\u001b[49m\u001b[43m(\u001b[49m\u001b[43mstart_i\u001b[49m\u001b[43m,\u001b[49m\u001b[43m \u001b[49m\u001b[43mend_i\u001b[49m\u001b[43m)\u001b[49m\n",
      "File \u001b[1;32m~\\AppData\\Local\\anaconda3\\lib\\site-packages\\pandas\\io\\formats\\csvs.py:315\u001b[0m, in \u001b[0;36mCSVFormatter._save_chunk\u001b[1;34m(self, start_i, end_i)\u001b[0m\n\u001b[0;32m    312\u001b[0m data \u001b[38;5;241m=\u001b[39m [res\u001b[38;5;241m.\u001b[39miget_values(i) \u001b[38;5;28;01mfor\u001b[39;00m i \u001b[38;5;129;01min\u001b[39;00m \u001b[38;5;28mrange\u001b[39m(\u001b[38;5;28mlen\u001b[39m(res\u001b[38;5;241m.\u001b[39mitems))]\n\u001b[0;32m    314\u001b[0m ix \u001b[38;5;241m=\u001b[39m \u001b[38;5;28mself\u001b[39m\u001b[38;5;241m.\u001b[39mdata_index[slicer]\u001b[38;5;241m.\u001b[39m_format_native_types(\u001b[38;5;241m*\u001b[39m\u001b[38;5;241m*\u001b[39m\u001b[38;5;28mself\u001b[39m\u001b[38;5;241m.\u001b[39m_number_format)\n\u001b[1;32m--> 315\u001b[0m \u001b[43mlibwriters\u001b[49m\u001b[38;5;241;43m.\u001b[39;49m\u001b[43mwrite_csv_rows\u001b[49m\u001b[43m(\u001b[49m\n\u001b[0;32m    316\u001b[0m \u001b[43m    \u001b[49m\u001b[43mdata\u001b[49m\u001b[43m,\u001b[49m\n\u001b[0;32m    317\u001b[0m \u001b[43m    \u001b[49m\u001b[43mix\u001b[49m\u001b[43m,\u001b[49m\n\u001b[0;32m    318\u001b[0m \u001b[43m    \u001b[49m\u001b[38;5;28;43mself\u001b[39;49m\u001b[38;5;241;43m.\u001b[39;49m\u001b[43mnlevels\u001b[49m\u001b[43m,\u001b[49m\n\u001b[0;32m    319\u001b[0m \u001b[43m    \u001b[49m\u001b[38;5;28;43mself\u001b[39;49m\u001b[38;5;241;43m.\u001b[39;49m\u001b[43mcols\u001b[49m\u001b[43m,\u001b[49m\n\u001b[0;32m    320\u001b[0m \u001b[43m    \u001b[49m\u001b[38;5;28;43mself\u001b[39;49m\u001b[38;5;241;43m.\u001b[39;49m\u001b[43mwriter\u001b[49m\u001b[43m,\u001b[49m\n\u001b[0;32m    321\u001b[0m \u001b[43m\u001b[49m\u001b[43m)\u001b[49m\n",
      "File \u001b[1;32m~\\AppData\\Local\\anaconda3\\lib\\site-packages\\pandas\\_libs\\writers.pyx:75\u001b[0m, in \u001b[0;36mpandas._libs.writers.write_csv_rows\u001b[1;34m()\u001b[0m\n",
      "\u001b[1;31mUnicodeEncodeError\u001b[0m: 'cp949' codec can't encode character '\\u1ec5' in position 7: illegal multibyte sequence"
     ]
    }
   ],
   "source": [
    "if __name__ == \"__main__\":\n",
    "    links = main('','부동산')"
   ]
  },
  {
   "cell_type": "markdown",
   "id": "686b3139",
   "metadata": {},
   "source": [
    "def groupss(browser, group_links):\n",
    "    for i in group_links:\n",
    "        browser.get(i)\n",
    "        get_profile_links(group_links)\n",
    "        "
   ]
  },
  {
   "cell_type": "markdown",
   "id": "0634ff82",
   "metadata": {},
   "source": [
    "def check_location_profile(browser):\n",
    "    soup_profile = bs(browser.page_source, \"html.parser\")\n",
    "    user_path = 0\n",
    "\n",
    "    for i in range(12,0,-1):\n",
    "        try:\n",
    "            tmp = f'/html/body/div[1]/div/div[1]/div/div[3]/div/div/div/div[1]/div[1]/div/div[2]/div/div/div[4]/div/div/div/div/div/div/div/div/div/div/div[2]/div[{i}]/div/div[2]/div/div[1]/div/div/div[1]/span/span/a/div[1]/svg/g/image'\n",
    "            elem_user = browser.find_element('xpath', tmp)\n",
    "            user_path = i\n",
    "            break\n",
    "        except Exception as ex:\n",
    "            continue\n",
    "    print(user_path)\n",
    "    return user_path"
   ]
  },
  {
   "cell_type": "markdown",
   "id": "acb175b5",
   "metadata": {},
   "source": [
    "soup_profile = bs(browser.page_source, \"html.parser\")\n",
    "user_path = 0\n",
    "\n",
    "for i in range(12,0,-1):\n",
    "    try:\n",
    "        tmp = f'/html/body/div[1]/div/div[1]/div/div[3]/div/div/div/div[1]/div[1]/div/div[2]/div/div/div[4]/div/div/div/div/div/div/div/div/div/div/div[2]/div[{i}]/div/div[2]/div/div[1]/div/div/div[1]/span/span/a/div[1]/svg/g/image'\n",
    "        elem_user = browser.find_element('xpath', tmp)\n",
    "        user_path = i\n",
    "        break\n",
    "    except Exception as ex:\n",
    "        continue\n",
    "print(user_path)"
   ]
  },
  {
   "cell_type": "markdown",
   "id": "9df410b5",
   "metadata": {},
   "source": [
    "\n",
    "print_csv('group_test', name, contact, city)"
   ]
  }
 ],
 "metadata": {
  "kernelspec": {
   "display_name": "Python 3 (ipykernel)",
   "language": "python",
   "name": "python3"
  },
  "language_info": {
   "codemirror_mode": {
    "name": "ipython",
    "version": 3
   },
   "file_extension": ".py",
   "mimetype": "text/x-python",
   "name": "python",
   "nbconvert_exporter": "python",
   "pygments_lexer": "ipython3",
   "version": "3.10.9"
  }
 },
 "nbformat": 4,
 "nbformat_minor": 5
}
